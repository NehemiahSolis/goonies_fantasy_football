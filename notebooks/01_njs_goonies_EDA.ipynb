{
 "cells": [
  {
   "attachments": {},
   "cell_type": "markdown",
   "metadata": {},
   "source": [
    "# Goonies Fantasy Football \n",
    "\n",
    "This is the EDA Notebook for the Goonies Fantasy Football team.\n",
    "\n",
    "This notebook is divided into the following sections:\n",
    "\n",
    "- [Section 1](#section1): Importing and Cleaning Data\n",
    "- [Section 2](#section2): Exploratory Data Analysis"
   ]
  },
  {
   "attachments": {},
   "cell_type": "markdown",
   "metadata": {},
   "source": [
    "## Section 1 : Importing the data"
   ]
  },
  {
   "cell_type": "code",
   "execution_count": 1,
   "metadata": {},
   "outputs": [],
   "source": [
    "from espn_api.football import League"
   ]
  },
  {
   "cell_type": "code",
   "execution_count": 3,
   "metadata": {},
   "outputs": [],
   "source": [
    "league_id = 201187\n",
    "year = 2022\n",
    "espn_s2 = \"\"\"AEBo1xH%2Fb5bOjaZ%2FWHu81SGRj2zOwPB6DW4zVPwTOH42CoU0oKD05hhjZjpuwicz%2Fs6d1q73ZSMv8%2FrHpL9XrFL6La1GAyLgViGJ29bUTGsryg%2FbX6bHEm4IHdcLtpJ7fN53Y1%2BPXYOVAbv3LQTdYMMyfXCc9dCxgmgI36w%2BKav0KoPVDV0JyROcar75bJK7u3fX2w2%2BcBcOD05%2Fzx8zQvKmYrH7GTYrswYmoNTuHyefSquIpSrDWK2Wi2t16keGoUIwXmBkPR3WQK0M0kg9icOpi68LhtAxGd%2B9BJita%2FX3WdJ4zu7rCKgYw9PQ%2FMC%2BPjQ%3D\"\"\"\n",
    "swid = \"D92738E9-FF51-4F91-B8A3-7AF454C9EE6D\"\n",
    "league = League(league_id=league_id, year=year, espn_s2=espn_s2, swid=swid)"
   ]
  },
  {
   "cell_type": "code",
   "execution_count": 4,
   "metadata": {},
   "outputs": [
    {
     "data": {
      "text/plain": [
       "[Team(Succop On My Cousins Hunt),\n",
       " Team(Carr-y Me To Round 2),\n",
       " Team(Purdy Strong 4 A White Guy),\n",
       " Team(Hurts My Theilens),\n",
       " Team(What R U Doing Step-Burrow),\n",
       " Team(QB Sadness RB Madness),\n",
       " Team(American Najee Warrior),\n",
       " Team(The Big D¡cker✨),\n",
       " Team(Bitcoin  Blough's ),\n",
       " Team(Government Funded),\n",
       " Team(Discount Double D¡ck'n),\n",
       " Team(This Just In Dak sucks),\n",
       " Team(Everett Day Im Waddling),\n",
       " Team(Going Ass Tua Mouth)]"
      ]
     },
     "execution_count": 4,
     "metadata": {},
     "output_type": "execute_result"
    }
   ],
   "source": [
    "league.teams"
   ]
  },
  {
   "attachments": {},
   "cell_type": "markdown",
   "metadata": {},
   "source": []
  },
  {
   "cell_type": "code",
   "execution_count": 6,
   "metadata": {},
   "outputs": [],
   "source": [
    "box_scores = league.box_scores(1)"
   ]
  },
  {
   "cell_type": "code",
   "execution_count": 15,
   "metadata": {},
   "outputs": [
    {
     "data": {
      "text/plain": [
       "Player(Davante Adams, points:25.1, projected:13.94)"
      ]
     },
     "execution_count": 15,
     "metadata": {},
     "output_type": "execute_result"
    }
   ],
   "source": [
    "box_scores[0].home_lineup[0]"
   ]
  },
  {
   "cell_type": "code",
   "execution_count": 23,
   "metadata": {},
   "outputs": [],
   "source": [
    "import pandas as pd\n",
    "import numpy as np\n",
    "\n",
    "# Create a dataframe of players on the each team per week\n",
    "df = pd.DataFrame()\n",
    "data = []\n",
    "\n",
    "for week in range(1, 18):\n",
    "    box_scores = league.box_scores(week)\n",
    "    for box_score in box_scores:\n",
    "        for player in box_score.home_lineup:\n",
    "            data.append({\n",
    "                \"week\": week,\n",
    "                \"team\": box_score.home_team.team_name,\n",
    "                \"player\": player.name,\n",
    "                \"position\": player.position,\n",
    "                \"points\": player.points\n",
    "            })\n",
    "        for player in box_score.away_lineup:\n",
    "            data.append({\n",
    "                \"week\": week,\n",
    "                \"team\": box_score.away_team.team_name,\n",
    "                \"player\": player.name,\n",
    "                \"position\": player.position,\n",
    "                \"points\": player.points\n",
    "            })\n",
    "\n",
    "df = pd.DataFrame(data)\n"
   ]
  },
  {
   "cell_type": "code",
   "execution_count": 24,
   "metadata": {},
   "outputs": [
    {
     "data": {
      "text/html": [
       "<div>\n",
       "<style scoped>\n",
       "    .dataframe tbody tr th:only-of-type {\n",
       "        vertical-align: middle;\n",
       "    }\n",
       "\n",
       "    .dataframe tbody tr th {\n",
       "        vertical-align: top;\n",
       "    }\n",
       "\n",
       "    .dataframe thead th {\n",
       "        text-align: right;\n",
       "    }\n",
       "</style>\n",
       "<table border=\"1\" class=\"dataframe\">\n",
       "  <thead>\n",
       "    <tr style=\"text-align: right;\">\n",
       "      <th></th>\n",
       "      <th>week</th>\n",
       "      <th>team</th>\n",
       "      <th>player</th>\n",
       "      <th>position</th>\n",
       "      <th>points</th>\n",
       "    </tr>\n",
       "  </thead>\n",
       "  <tbody>\n",
       "    <tr>\n",
       "      <th>0</th>\n",
       "      <td>1</td>\n",
       "      <td>Government Funded</td>\n",
       "      <td>Davante Adams</td>\n",
       "      <td>WR</td>\n",
       "      <td>25.10</td>\n",
       "    </tr>\n",
       "    <tr>\n",
       "      <th>1</th>\n",
       "      <td>1</td>\n",
       "      <td>Government Funded</td>\n",
       "      <td>Stefon Diggs</td>\n",
       "      <td>WR</td>\n",
       "      <td>22.20</td>\n",
       "    </tr>\n",
       "    <tr>\n",
       "      <th>2</th>\n",
       "      <td>1</td>\n",
       "      <td>Government Funded</td>\n",
       "      <td>DJ Moore</td>\n",
       "      <td>WR</td>\n",
       "      <td>6.50</td>\n",
       "    </tr>\n",
       "    <tr>\n",
       "      <th>3</th>\n",
       "      <td>1</td>\n",
       "      <td>Government Funded</td>\n",
       "      <td>J.K. Dobbins</td>\n",
       "      <td>RB</td>\n",
       "      <td>0.00</td>\n",
       "    </tr>\n",
       "    <tr>\n",
       "      <th>4</th>\n",
       "      <td>1</td>\n",
       "      <td>Government Funded</td>\n",
       "      <td>Justin Herbert</td>\n",
       "      <td>QB</td>\n",
       "      <td>23.26</td>\n",
       "    </tr>\n",
       "  </tbody>\n",
       "</table>\n",
       "</div>"
      ],
      "text/plain": [
       "   week               team          player position  points\n",
       "0     1  Government Funded   Davante Adams       WR   25.10\n",
       "1     1  Government Funded    Stefon Diggs       WR   22.20\n",
       "2     1  Government Funded        DJ Moore       WR    6.50\n",
       "3     1  Government Funded    J.K. Dobbins       RB    0.00\n",
       "4     1  Government Funded  Justin Herbert       QB   23.26"
      ]
     },
     "execution_count": 24,
     "metadata": {},
     "output_type": "execute_result"
    }
   ],
   "source": [
    "df.head()"
   ]
  },
  {
   "cell_type": "code",
   "execution_count": 39,
   "metadata": {},
   "outputs": [
    {
     "data": {
      "text/plain": [
       "[Activity((Team(Discount Double D¡ck'n),TRADED,Player(David Montgomery)) (Team(What R U Doing Step-Burrow),TRADED,Player(D'Andre Swift))),\n",
       " Activity((Team(American Najee Warrior),TRADED,Player(Joshua Palmer)) (Team(Government Funded),TRADED,Player(Kalif Raymond))),\n",
       " Activity((Team(Government Funded),TRADED,Player(Joshua Palmer)) (Team(American Najee Warrior),TRADED,Player(Kalif Raymond))),\n",
       " Activity((Team(American Najee Warrior),TRADED,Player(Chuba Hubbard)) (Team(Discount Double D¡ck'n),TRADED,Player(Nico Collins))),\n",
       " Activity((Team(Government Funded),TRADED,Player(Jets D/ST)) (Team(Going Ass Tua Mouth),TRADED,Player(Bills D/ST))),\n",
       " Activity((Team(Bitcoin  Blough's ),TRADED,Player(Terry McLaurin)) (Team(Going Ass Tua Mouth),TRADED,Player(Derrick Henry)) (Team(Bitcoin  Blough's ),TRADED,Player(A.J. Brown)) (Team(Bitcoin  Blough's ),TRADED,Player(Rhamondre Stevenson)) (Team(Going Ass Tua Mouth),TRADED,Player(DeAndre Hopkins)) (Team(Bitcoin  Blough's ),TRADED,Player(J.K. Dobbins))),\n",
       " Activity((Team(Discount Double D¡ck'n),TRADED,Player(Chris Olave)) (Team(Succop On My Cousins Hunt),TRADED,Player(Christian Kirk)) (Team(Discount Double D¡ck'n),TRADED,Player(Raheem Mostert))),\n",
       " Activity((Team(Succop On My Cousins Hunt),TRADED,Player(Evan Engram)) (Team(Bitcoin  Blough's ),TRADED,Player(DK Metcalf)) (Team(Succop On My Cousins Hunt),TRADED,Player(Dalvin Cook)) (Team(Bitcoin  Blough's ),TRADED,Player(Leonard Fournette)) (Team(Succop On My Cousins Hunt),TRADED,Player(Terry McLaurin)) (Team(Bitcoin  Blough's ),TRADED,Player(Dalton Schultz))),\n",
       " Activity((Team(What R U Doing Step-Burrow),TRADED,Player(David Njoku)) (Team(Going Ass Tua Mouth),TRADED,Player(D'Andre Swift)) (Team(What R U Doing Step-Burrow),TRADED,Player(Nico Collins))),\n",
       " Activity((Team(Purdy Strong 4 A White Guy),TRADED,Player(Kirk Cousins)) (Team(Purdy Strong 4 A White Guy),TRADED,Player(Christian Kirk)) (Team(Succop On My Cousins Hunt),TRADED,Player(Lamar Jackson)) (Team(Succop On My Cousins Hunt),TRADED,Player(Keenan Allen))),\n",
       " Activity((Team(Discount Double D¡ck'n),TRADED,Player(DeAndre Hopkins)) (Team(Going Ass Tua Mouth),TRADED,Player(Raheem Mostert)) (Team(Discount Double D¡ck'n),TRADED,Player(D'Andre Swift)) (Team(Going Ass Tua Mouth),TRADED,Player(David Montgomery)) (Team(Going Ass Tua Mouth),TRADED,Player(Mike Evans)) (Team(Discount Double D¡ck'n),TRADED,Player(Terrace Marshall Jr.))),\n",
       " Activity((Team(Going Ass Tua Mouth),TRADED,Player(Rashod Bateman)) (Team(Everett Day Im Waddling),TRADED,Player(Tua Tagovailoa))),\n",
       " Activity((Team(What R U Doing Step-Burrow),TRADED,Player(J.K. Dobbins)) (Team(What R U Doing Step-Burrow),TRADED,Player(Dalton Schultz)) (Team(Bitcoin  Blough's ),TRADED,Player(David Njoku)) (Team(Bitcoin  Blough's ),TRADED,Player(Michael Carter))),\n",
       " Activity((Team(Discount Double D¡ck'n),TRADED,Player(Tyler Lockett)) (Team(This Just In Dak sucks),TRADED,Player(Tom Brady))),\n",
       " Activity((Team(Purdy Strong 4 A White Guy),TRADED,Player(Amon-Ra St. Brown)) (Team(Bitcoin  Blough's ),TRADED,Player(Brian Robinson Jr.)) (Team(Bitcoin  Blough's ),TRADED,Player(Courtland Sutton))),\n",
       " Activity((Team(Going Ass Tua Mouth),TRADED,Player(Terry McLaurin)) (Team(Succop On My Cousins Hunt),TRADED,Player(Jerry Jeudy)) (Team(Succop On My Cousins Hunt),TRADED,Player(Rashod Bateman))),\n",
       " Activity((Team(Government Funded),TRADED,Player(Dawson Knox)) (Team(Carr-y Me To Round 2),TRADED,Player(Mike Gesicki))),\n",
       " Activity((Team(Discount Double D¡ck'n),TRADED,Player(Younghoe Koo)) (Team(Discount Double D¡ck'n),TRADED,Player(AJ Dillon)) (Team(Hurts My Theilens),TRADED,Player(Evan McPherson)) (Team(Hurts My Theilens),TRADED,Player(DeAndre Hopkins))),\n",
       " Activity((Team(Government Funded),TRADED,Player(DJ Chark)) (Team(What R U Doing Step-Burrow),TRADED,Player(Kenneth Gainwell))),\n",
       " Activity((Team(QB Sadness RB Madness),TRADED,Player(T.J. Hockenson)) (Team(Hurts My Theilens),TRADED,Player(Travis Kelce)) (Team(QB Sadness RB Madness),TRADED,Player(Mike Williams))),\n",
       " Activity((Team(Government Funded),TRADED,Player(Matthew Stafford)) (Team(Succop On My Cousins Hunt),TRADED,Player(Carson Wentz))),\n",
       " Activity((Team(Government Funded),TRADED,Player(DJ Moore)) (Team(Succop On My Cousins Hunt),TRADED,Player(Michael Gallup))),\n",
       " Activity((Team(Government Funded),TRADED,Player(AJ Dillon)) (Team(Discount Double D¡ck'n),TRADED,Player(Devin Duvernay))),\n",
       " Activity((Team(Carr-y Me To Round 2),TRADED,Player(Mike Williams)) (Team(QB Sadness RB Madness),TRADED,Player(Damien Harris))),\n",
       " Activity((Team(Succop On My Cousins Hunt),TRADED,Player(Tyler Boyd)) (Team(American Najee Warrior),TRADED,Player(Hunter Renfrow)) (Team(Succop On My Cousins Hunt),TRADED,Player(Broncos D/ST)) (Team(American Najee Warrior),TRADED,Player(Rams D/ST)))]"
      ]
     },
     "execution_count": 39,
     "metadata": {},
     "output_type": "execute_result"
    }
   ],
   "source": [
    "# Get the trades made per week per team in a dataframe. In the league.recent_activity() method\n",
    "trades = league.recent_activity(msg_type=\"TRADED\")\n",
    "# for activity in trades:\n",
    "#     for trade in activity.actions:\n",
    "#         trade\n",
    "#     print('\\n')\n",
    "\n",
    "trades"
   ]
  },
  {
   "cell_type": "code",
   "execution_count": 41,
   "metadata": {},
   "outputs": [
    {
     "data": {
      "text/plain": [
       "[(Team(Discount Double D¡ck'n), 'TRADED', Player(David Montgomery), 0),\n",
       " (Team(What R U Doing Step-Burrow), 'TRADED', Player(D'Andre Swift), 0)]"
      ]
     },
     "execution_count": 41,
     "metadata": {},
     "output_type": "execute_result"
    }
   ],
   "source": [
    "trades[0].actions"
   ]
  },
  {
   "cell_type": "code",
   "execution_count": 29,
   "metadata": {},
   "outputs": [
    {
     "data": {
      "text/plain": [
       "'c:\\\\Users\\\\nehem\\\\OneDrive\\\\Documents\\\\GitHub\\\\goonies_fantasy_football\\\\notebooks'"
      ]
     },
     "execution_count": 29,
     "metadata": {},
     "output_type": "execute_result"
    }
   ],
   "source": [
    "# get current directory\n",
    "import os\n",
    "os.getcwd()"
   ]
  },
  {
   "cell_type": "code",
   "execution_count": 32,
   "metadata": {},
   "outputs": [],
   "source": [
    "df.to_excel(\"2021_player_data.xlsx\")"
   ]
  },
  {
   "cell_type": "code",
   "execution_count": 50,
   "metadata": {},
   "outputs": [
    {
     "ename": "DoesNotExistException",
     "evalue": "Owner name 'clark norris' does not match any previously loaded owner names. To add multiple names for a single owner, use the 'ownerNamesAndAliases' keyword argument to define them.",
     "output_type": "error",
     "traceback": [
      "\u001b[1;31m---------------------------------------------------------------------------\u001b[0m",
      "\u001b[1;31mDoesNotExistException\u001b[0m                     Traceback (most recent call last)",
      "Cell \u001b[1;32mIn[50], line 15\u001b[0m\n\u001b[0;32m      4\u001b[0m \u001b[39mif\u001b[39;00m \u001b[39m__name__\u001b[39m \u001b[39m==\u001b[39m \u001b[39m\"\u001b[39m\u001b[39m__main__\u001b[39m\u001b[39m\"\u001b[39m:\n\u001b[0;32m      5\u001b[0m     \u001b[39m# PRIVATE LEAGUE\u001b[39;00m\n\u001b[0;32m      6\u001b[0m     \u001b[39m# You will need the ESPN_S2 and SWID parameters to retrieve a private league.\u001b[39;00m\n\u001b[1;32m   (...)\u001b[0m\n\u001b[0;32m     12\u001b[0m     \u001b[39m# 5. The values you need are called \"SWID\" and \"ESPN_S2\". You can right-click and copy the values from here.\u001b[39;00m\n\u001b[0;32m     13\u001b[0m     \u001b[39m# Get a League object with years 2019 and 2020 for ESPN league with ID: \"12345678\".\u001b[39;00m\n\u001b[0;32m     14\u001b[0m     espnLeagueLoader \u001b[39m=\u001b[39m ESPNLeagueLoader(\u001b[39mf\u001b[39m\u001b[39m\"\u001b[39m\u001b[39m{\u001b[39;00mleague_id\u001b[39m}\u001b[39;00m\u001b[39m\"\u001b[39m, [\u001b[39m2021\u001b[39m,\u001b[39m2022\u001b[39m], espnS2\u001b[39m=\u001b[39mespn_s2, swid\u001b[39m=\u001b[39mswid)\n\u001b[1;32m---> 15\u001b[0m     league: League \u001b[39m=\u001b[39m espnLeagueLoader\u001b[39m.\u001b[39;49mloadLeague()\n",
      "File \u001b[1;32mc:\\Users\\nehem\\OneDrive\\Documents\\GitHub\\goonies_fantasy_football\\.venv\\Lib\\site-packages\\leeger\\league_loader\\ESPNLeagueLoader.py:87\u001b[0m, in \u001b[0;36mESPNLeagueLoader.loadLeague\u001b[1;34m(self, validate)\u001b[0m\n\u001b[0;32m     85\u001b[0m \u001b[39mdef\u001b[39;00m \u001b[39mloadLeague\u001b[39m(\u001b[39mself\u001b[39m, validate: \u001b[39mbool\u001b[39m \u001b[39m=\u001b[39m \u001b[39mTrue\u001b[39;00m) \u001b[39m-\u001b[39m\u001b[39m>\u001b[39m League:\n\u001b[0;32m     86\u001b[0m     espnLeagueYears \u001b[39m=\u001b[39m \u001b[39mself\u001b[39m\u001b[39m.\u001b[39m__getAllLeagues()\n\u001b[1;32m---> 87\u001b[0m     league \u001b[39m=\u001b[39m \u001b[39mself\u001b[39;49m\u001b[39m.\u001b[39;49m__buildLeague(espnLeagueYears)\n\u001b[0;32m     88\u001b[0m     \u001b[39mif\u001b[39;00m validate:\n\u001b[0;32m     89\u001b[0m         \u001b[39m# validate new league\u001b[39;00m\n\u001b[0;32m     90\u001b[0m         leagueValidation\u001b[39m.\u001b[39mrunAllChecks(league)\n",
      "File \u001b[1;32mc:\\Users\\nehem\\OneDrive\\Documents\\GitHub\\goonies_fantasy_football\\.venv\\Lib\\site-packages\\leeger\\league_loader\\ESPNLeagueLoader.py:99\u001b[0m, in \u001b[0;36mESPNLeagueLoader.__buildLeague\u001b[1;34m(self, espnLeagues)\u001b[0m\n\u001b[0;32m     97\u001b[0m     \u001b[39mself\u001b[39m\u001b[39m.\u001b[39m_leagueNameByYear[espnLeague\u001b[39m.\u001b[39myear] \u001b[39m=\u001b[39m espnLeague\u001b[39m.\u001b[39msettings\u001b[39m.\u001b[39mname\n\u001b[0;32m     98\u001b[0m     \u001b[39mself\u001b[39m\u001b[39m.\u001b[39m__loadOwners(espnLeague\u001b[39m.\u001b[39mteams)\n\u001b[1;32m---> 99\u001b[0m     years\u001b[39m.\u001b[39mappend(\u001b[39mself\u001b[39;49m\u001b[39m.\u001b[39;49m__buildYear(espnLeague))\n\u001b[0;32m    100\u001b[0m \u001b[39mreturn\u001b[39;00m League(\n\u001b[0;32m    101\u001b[0m     name\u001b[39m=\u001b[39m\u001b[39mself\u001b[39m\u001b[39m.\u001b[39m_getLeagueName(), owners\u001b[39m=\u001b[39m\u001b[39mself\u001b[39m\u001b[39m.\u001b[39m_owners, years\u001b[39m=\u001b[39m\u001b[39mself\u001b[39m\u001b[39m.\u001b[39m_getValidYears(years)\n\u001b[0;32m    102\u001b[0m )\n",
      "File \u001b[1;32mc:\\Users\\nehem\\OneDrive\\Documents\\GitHub\\goonies_fantasy_football\\.venv\\Lib\\site-packages\\leeger\\league_loader\\ESPNLeagueLoader.py:118\u001b[0m, in \u001b[0;36mESPNLeagueLoader.__buildYear\u001b[1;34m(self, espnLeague)\u001b[0m\n\u001b[0;32m    116\u001b[0m \u001b[39mfor\u001b[39;00m espnDivisionId, espnDivisionName \u001b[39min\u001b[39;00m espnLeague\u001b[39m.\u001b[39msettings\u001b[39m.\u001b[39mdivision_map\u001b[39m.\u001b[39mitems():\n\u001b[0;32m    117\u001b[0m     \u001b[39mself\u001b[39m\u001b[39m.\u001b[39m__espnDivisionIdToDivisionMap[espnDivisionId] \u001b[39m=\u001b[39m Division(name\u001b[39m=\u001b[39mespnDivisionName)\n\u001b[1;32m--> 118\u001b[0m teams \u001b[39m=\u001b[39m \u001b[39mself\u001b[39;49m\u001b[39m.\u001b[39;49m__buildTeams(espnLeague\u001b[39m.\u001b[39;49mteams)\n\u001b[0;32m    119\u001b[0m weeks \u001b[39m=\u001b[39m \u001b[39mself\u001b[39m\u001b[39m.\u001b[39m__buildWeeks(espnLeague)\n\u001b[0;32m    120\u001b[0m \u001b[39m# TODO: see if there are cases where ESPN leagues do NOT have divisions\u001b[39;00m\n",
      "File \u001b[1;32mc:\\Users\\nehem\\OneDrive\\Documents\\GitHub\\goonies_fantasy_football\\.venv\\Lib\\site-packages\\leeger\\league_loader\\ESPNLeagueLoader.py:228\u001b[0m, in \u001b[0;36mESPNLeagueLoader.__buildTeams\u001b[1;34m(self, espnTeams)\u001b[0m\n\u001b[0;32m    225\u001b[0m \u001b[39mfor\u001b[39;00m espnTeam \u001b[39min\u001b[39;00m espnTeams:\n\u001b[0;32m    226\u001b[0m     \u001b[39m# TODO: see if there are cases where ESPN leagues do NOT have divisions\u001b[39;00m\n\u001b[0;32m    227\u001b[0m     divisionId \u001b[39m=\u001b[39m \u001b[39mself\u001b[39m\u001b[39m.\u001b[39m__espnDivisionIdToDivisionMap[espnTeam\u001b[39m.\u001b[39mdivision_id]\u001b[39m.\u001b[39mid\n\u001b[1;32m--> 228\u001b[0m     owner \u001b[39m=\u001b[39m \u001b[39mself\u001b[39;49m\u001b[39m.\u001b[39;49m_getOwnerByName(espnTeam\u001b[39m.\u001b[39;49mowner)\n\u001b[0;32m    229\u001b[0m     team \u001b[39m=\u001b[39m Team(ownerId\u001b[39m=\u001b[39mowner\u001b[39m.\u001b[39mid, name\u001b[39m=\u001b[39mespnTeam\u001b[39m.\u001b[39mteam_name, divisionId\u001b[39m=\u001b[39mdivisionId)\n\u001b[0;32m    230\u001b[0m     teams\u001b[39m.\u001b[39mappend(team)\n",
      "File \u001b[1;32mc:\\Users\\nehem\\OneDrive\\Documents\\GitHub\\goonies_fantasy_football\\.venv\\Lib\\site-packages\\leeger\\league_loader\\LeagueLoader.py:96\u001b[0m, in \u001b[0;36mLeagueLoader._getOwnerByName\u001b[1;34m(self, ownerName)\u001b[0m\n\u001b[0;32m     94\u001b[0m     \u001b[39mif\u001b[39;00m ownerName \u001b[39m==\u001b[39m owner\u001b[39m.\u001b[39mname \u001b[39mor\u001b[39;00m generalOwnerName \u001b[39m==\u001b[39m owner\u001b[39m.\u001b[39mname:\n\u001b[0;32m     95\u001b[0m         \u001b[39mreturn\u001b[39;00m owner\n\u001b[1;32m---> 96\u001b[0m \u001b[39mraise\u001b[39;00m DoesNotExistException(\n\u001b[0;32m     97\u001b[0m     \u001b[39mf\u001b[39m\u001b[39m\"\u001b[39m\u001b[39mOwner name \u001b[39m\u001b[39m'\u001b[39m\u001b[39m{\u001b[39;00mownerName\u001b[39m}\u001b[39;00m\u001b[39m'\u001b[39m\u001b[39m does not match any previously loaded owner names. To add multiple names for a single owner, use the \u001b[39m\u001b[39m'\u001b[39m\u001b[39mownerNamesAndAliases\u001b[39m\u001b[39m'\u001b[39m\u001b[39m keyword argument to define them.\u001b[39m\u001b[39m\"\u001b[39m\n\u001b[0;32m     98\u001b[0m )\n",
      "\u001b[1;31mDoesNotExistException\u001b[0m: Owner name 'clark norris' does not match any previously loaded owner names. To add multiple names for a single owner, use the 'ownerNamesAndAliases' keyword argument to define them."
     ]
    }
   ],
   "source": [
    "from leeger.league_loader import ESPNLeagueLoader\n",
    "from leeger.model.league import League\n",
    "\n",
    "if __name__ == \"__main__\":\n",
    "    # PRIVATE LEAGUE\n",
    "    # You will need the ESPN_S2 and SWID parameters to retrieve a private league.\n",
    "    # To retrieve these, follow these steps:\n",
    "    # 1. Visit your main league page (i.e. https://fantasy.espn.com/football/team?leagueId=12345678seasonId=2020)\n",
    "    # 2. Make sure you are logged in.\n",
    "    # 3. Open Developer Tools (on Chrome/Firefox, right-click anywhere on the page and select Inspect Element)\n",
    "    # 4. Go to Storage (for Firefox) or Application (for Chrome) and browse the Cookies available for fantasy.espn.com\n",
    "    # 5. The values you need are called \"SWID\" and \"ESPN_S2\". You can right-click and copy the values from here.\n",
    "    # Get a League object with years 2019 and 2020 for ESPN league with ID: \"12345678\".\n",
    "    espnLeagueLoader = ESPNLeagueLoader(f\"{league_id}\", [2021,2022], espnS2=espn_s2, swid=swid)\n",
    "    league: League = espnLeagueLoader.loadLeague()"
   ]
  },
  {
   "cell_type": "code",
   "execution_count": null,
   "metadata": {},
   "outputs": [],
   "source": []
  }
 ],
 "metadata": {
  "kernelspec": {
   "display_name": ".venv",
   "language": "python",
   "name": "python3"
  },
  "language_info": {
   "codemirror_mode": {
    "name": "ipython",
    "version": 3
   },
   "file_extension": ".py",
   "mimetype": "text/x-python",
   "name": "python",
   "nbconvert_exporter": "python",
   "pygments_lexer": "ipython3",
   "version": "3.11.3"
  },
  "orig_nbformat": 4
 },
 "nbformat": 4,
 "nbformat_minor": 2
}
