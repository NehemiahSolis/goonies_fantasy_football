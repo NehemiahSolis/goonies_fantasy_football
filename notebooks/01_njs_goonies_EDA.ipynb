{
 "cells": [
  {
   "attachments": {},
   "cell_type": "markdown",
   "metadata": {},
   "source": [
    "# Goonies Fantasy Football \n",
    "\n",
    "This is the EDA Notebook for the Goonies Fantasy Football team.\n",
    "\n",
    "This notebook is divided into the following sections:\n",
    "\n",
    "- [Section 1](#section1): Importing and Cleaning Data\n",
    "- [Section 2](#section2): Exploratory Data Analysis"
   ]
  },
  {
   "attachments": {},
   "cell_type": "markdown",
   "metadata": {},
   "source": [
    "## Section 1 : Importing the data"
   ]
  },
  {
   "cell_type": "code",
   "execution_count": 13,
   "metadata": {
    "ExecuteTime": {
     "end_time": "2023-09-28T13:34:23.900203100Z",
     "start_time": "2023-09-28T13:34:23.694733Z"
    }
   },
   "outputs": [],
   "source": [
    "from espn_api.football import League\n",
    "import pandas as pd\n",
    "import owners as own"
   ]
  },
  {
   "cell_type": "code",
   "execution_count": 33,
   "metadata": {},
   "outputs": [
    {
     "name": "stdout",
     "output_type": "stream",
     "text": [
      "The autoreload extension is already loaded. To reload it, use:\n",
      "  %reload_ext autoreload\n"
     ]
    }
   ],
   "source": [
    "# automatically reload imported modules\n",
    "%load_ext autoreload\n",
    "%autoreload 2"
   ]
  },
  {
   "cell_type": "code",
   "execution_count": 34,
   "metadata": {
    "ExecuteTime": {
     "end_time": "2023-09-28T13:28:40.095822400Z",
     "start_time": "2023-09-28T13:28:39.062253Z"
    }
   },
   "outputs": [],
   "source": [
    "league_id = 201187\n",
    "year = 2023\n",
    "league = own.import_league(league_id, year)"
   ]
  },
  {
   "cell_type": "code",
   "execution_count": 35,
   "metadata": {
    "ExecuteTime": {
     "end_time": "2023-09-28T13:36:52.637625600Z",
     "start_time": "2023-09-28T13:36:52.629020300Z"
    },
    "collapsed": false
   },
   "outputs": [],
   "source": [
    "owners = own.owners_list(league)"
   ]
  },
  {
   "cell_type": "code",
   "execution_count": 36,
   "metadata": {},
   "outputs": [
    {
     "data": {
      "text/plain": [
       "['Kevin Fisher',\n",
       " 'Jacob Woodward',\n",
       " 'Rilee Fisher',\n",
       " 'Nehemiah Solis',\n",
       " 'clark norris',\n",
       " 'Jacob Aguirre',\n",
       " 'Austin Hatten',\n",
       " 'Grant Norris',\n",
       " 'Frankie Solis',\n",
       " 'clay rittershuas',\n",
       " 'Byron Norris',\n",
       " 'Jose Estrada',\n",
       " 'Gary Adams',\n",
       " 'Jimmy Dagley']"
      ]
     },
     "execution_count": 36,
     "metadata": {},
     "output_type": "execute_result"
    }
   ],
   "source": [
    "owners"
   ]
  },
  {
   "cell_type": "code",
   "execution_count": 37,
   "metadata": {},
   "outputs": [
    {
     "ename": "ValueError",
     "evalue": "Index contains duplicate entries, cannot reshape",
     "output_type": "error",
     "traceback": [
      "\u001b[1;31m---------------------------------------------------------------------------\u001b[0m",
      "\u001b[1;31mValueError\u001b[0m                                Traceback (most recent call last)",
      "\u001b[1;32mc:\\Users\\nehem\\OneDrive\\Documents\\GitHub\\goonies_fantasy_football\\notebooks\\01_njs_goonies_EDA.ipynb Cell 8\u001b[0m line \u001b[0;36m2\n\u001b[0;32m      <a href='vscode-notebook-cell:/c%3A/Users/nehem/OneDrive/Documents/GitHub/goonies_fantasy_football/notebooks/01_njs_goonies_EDA.ipynb#X12sZmlsZQ%3D%3D?line=0'>1</a>\u001b[0m \u001b[39m# Get the schedule\u001b[39;00m\n\u001b[1;32m----> <a href='vscode-notebook-cell:/c%3A/Users/nehem/OneDrive/Documents/GitHub/goonies_fantasy_football/notebooks/01_njs_goonies_EDA.ipynb#X12sZmlsZQ%3D%3D?line=1'>2</a>\u001b[0m schedule_df \u001b[39m=\u001b[39m own\u001b[39m.\u001b[39;49mowner_schedule(league, owners)\n",
      "File \u001b[1;32mc:\\Users\\nehem\\OneDrive\\Documents\\GitHub\\goonies_fantasy_football\\notebooks\\owners.py:53\u001b[0m, in \u001b[0;36mowner_schedule\u001b[1;34m(league, owners)\u001b[0m\n\u001b[0;32m     51\u001b[0m owners_df \u001b[39m=\u001b[39m owners_df\u001b[39m.\u001b[39mexplode(\u001b[39m'\u001b[39m\u001b[39mSchedule\u001b[39m\u001b[39m'\u001b[39m)\n\u001b[0;32m     52\u001b[0m \u001b[39m# Name the columns \"Week 1\", \"Week 2\", etc.\u001b[39;00m\n\u001b[1;32m---> 53\u001b[0m owners_df \u001b[39m=\u001b[39m owners_df\u001b[39m.\u001b[39;49mpivot(columns\u001b[39m=\u001b[39;49m\u001b[39m'\u001b[39;49m\u001b[39mSchedule\u001b[39;49m\u001b[39m'\u001b[39;49m, values\u001b[39m=\u001b[39;49m\u001b[39m'\u001b[39;49m\u001b[39mTeam\u001b[39;49m\u001b[39m'\u001b[39;49m)\n\u001b[0;32m     54\u001b[0m owners_df\u001b[39m.\u001b[39mcolumns \u001b[39m=\u001b[39m [\u001b[39m'\u001b[39m\u001b[39mWeek \u001b[39m\u001b[39m'\u001b[39m \u001b[39m+\u001b[39m \u001b[39mstr\u001b[39m(col) \u001b[39mfor\u001b[39;00m col \u001b[39min\u001b[39;00m owners_df\u001b[39m.\u001b[39mcolumns]\n\u001b[0;32m     55\u001b[0m owners_df \u001b[39m=\u001b[39m owners_df\u001b[39m.\u001b[39mreset_index()\n",
      "File \u001b[1;32mc:\\Users\\nehem\\OneDrive\\Documents\\GitHub\\goonies_fantasy_football\\.venv\\Lib\\site-packages\\pandas\\core\\frame.py:8414\u001b[0m, in \u001b[0;36mDataFrame.pivot\u001b[1;34m(self, columns, index, values)\u001b[0m\n\u001b[0;32m   8409\u001b[0m \u001b[39m@Substitution\u001b[39m(\u001b[39m\"\u001b[39m\u001b[39m\"\u001b[39m)\n\u001b[0;32m   8410\u001b[0m \u001b[39m@Appender\u001b[39m(_shared_docs[\u001b[39m\"\u001b[39m\u001b[39mpivot\u001b[39m\u001b[39m\"\u001b[39m])\n\u001b[0;32m   8411\u001b[0m \u001b[39mdef\u001b[39;00m \u001b[39mpivot\u001b[39m(\u001b[39mself\u001b[39m, \u001b[39m*\u001b[39m, columns, index\u001b[39m=\u001b[39mlib\u001b[39m.\u001b[39mNoDefault, values\u001b[39m=\u001b[39mlib\u001b[39m.\u001b[39mNoDefault) \u001b[39m-\u001b[39m\u001b[39m>\u001b[39m DataFrame:\n\u001b[0;32m   8412\u001b[0m     \u001b[39mfrom\u001b[39;00m \u001b[39mpandas\u001b[39;00m\u001b[39m.\u001b[39;00m\u001b[39mcore\u001b[39;00m\u001b[39m.\u001b[39;00m\u001b[39mreshape\u001b[39;00m\u001b[39m.\u001b[39;00m\u001b[39mpivot\u001b[39;00m \u001b[39mimport\u001b[39;00m pivot\n\u001b[1;32m-> 8414\u001b[0m     \u001b[39mreturn\u001b[39;00m pivot(\u001b[39mself\u001b[39;49m, index\u001b[39m=\u001b[39;49mindex, columns\u001b[39m=\u001b[39;49mcolumns, values\u001b[39m=\u001b[39;49mvalues)\n",
      "File \u001b[1;32mc:\\Users\\nehem\\OneDrive\\Documents\\GitHub\\goonies_fantasy_football\\.venv\\Lib\\site-packages\\pandas\\core\\reshape\\pivot.py:557\u001b[0m, in \u001b[0;36mpivot\u001b[1;34m(data, columns, index, values)\u001b[0m\n\u001b[0;32m    553\u001b[0m         indexed \u001b[39m=\u001b[39m data\u001b[39m.\u001b[39m_constructor_sliced(data[values]\u001b[39m.\u001b[39m_values, index\u001b[39m=\u001b[39mmultiindex)\n\u001b[0;32m    554\u001b[0m \u001b[39m# error: Argument 1 to \"unstack\" of \"DataFrame\" has incompatible type \"Union\u001b[39;00m\n\u001b[0;32m    555\u001b[0m \u001b[39m# [List[Any], ExtensionArray, ndarray[Any, Any], Index, Series]\"; expected\u001b[39;00m\n\u001b[0;32m    556\u001b[0m \u001b[39m# \"Hashable\"\u001b[39;00m\n\u001b[1;32m--> 557\u001b[0m result \u001b[39m=\u001b[39m indexed\u001b[39m.\u001b[39;49munstack(columns_listlike)  \u001b[39m# type: ignore[arg-type]\u001b[39;00m\n\u001b[0;32m    558\u001b[0m result\u001b[39m.\u001b[39mindex\u001b[39m.\u001b[39mnames \u001b[39m=\u001b[39m [\n\u001b[0;32m    559\u001b[0m     name \u001b[39mif\u001b[39;00m name \u001b[39mis\u001b[39;00m \u001b[39mnot\u001b[39;00m lib\u001b[39m.\u001b[39mNoDefault \u001b[39melse\u001b[39;00m \u001b[39mNone\u001b[39;00m \u001b[39mfor\u001b[39;00m name \u001b[39min\u001b[39;00m result\u001b[39m.\u001b[39mindex\u001b[39m.\u001b[39mnames\n\u001b[0;32m    560\u001b[0m ]\n\u001b[0;32m    562\u001b[0m \u001b[39mreturn\u001b[39;00m result\n",
      "File \u001b[1;32mc:\\Users\\nehem\\OneDrive\\Documents\\GitHub\\goonies_fantasy_football\\.venv\\Lib\\site-packages\\pandas\\core\\series.py:4313\u001b[0m, in \u001b[0;36mSeries.unstack\u001b[1;34m(self, level, fill_value)\u001b[0m\n\u001b[0;32m   4270\u001b[0m \u001b[39m\u001b[39m\u001b[39m\"\"\"\u001b[39;00m\n\u001b[0;32m   4271\u001b[0m \u001b[39mUnstack, also known as pivot, Series with MultiIndex to produce DataFrame.\u001b[39;00m\n\u001b[0;32m   4272\u001b[0m \n\u001b[1;32m   (...)\u001b[0m\n\u001b[0;32m   4309\u001b[0m \u001b[39mb    2    4\u001b[39;00m\n\u001b[0;32m   4310\u001b[0m \u001b[39m\"\"\"\u001b[39;00m\n\u001b[0;32m   4311\u001b[0m \u001b[39mfrom\u001b[39;00m \u001b[39mpandas\u001b[39;00m\u001b[39m.\u001b[39;00m\u001b[39mcore\u001b[39;00m\u001b[39m.\u001b[39;00m\u001b[39mreshape\u001b[39;00m\u001b[39m.\u001b[39;00m\u001b[39mreshape\u001b[39;00m \u001b[39mimport\u001b[39;00m unstack\n\u001b[1;32m-> 4313\u001b[0m \u001b[39mreturn\u001b[39;00m unstack(\u001b[39mself\u001b[39;49m, level, fill_value)\n",
      "File \u001b[1;32mc:\\Users\\nehem\\OneDrive\\Documents\\GitHub\\goonies_fantasy_football\\.venv\\Lib\\site-packages\\pandas\\core\\reshape\\reshape.py:488\u001b[0m, in \u001b[0;36munstack\u001b[1;34m(obj, level, fill_value)\u001b[0m\n\u001b[0;32m    486\u001b[0m \u001b[39mif\u001b[39;00m is_1d_only_ea_dtype(obj\u001b[39m.\u001b[39mdtype):\n\u001b[0;32m    487\u001b[0m     \u001b[39mreturn\u001b[39;00m _unstack_extension_series(obj, level, fill_value)\n\u001b[1;32m--> 488\u001b[0m unstacker \u001b[39m=\u001b[39m _Unstacker(\n\u001b[0;32m    489\u001b[0m     obj\u001b[39m.\u001b[39;49mindex, level\u001b[39m=\u001b[39;49mlevel, constructor\u001b[39m=\u001b[39;49mobj\u001b[39m.\u001b[39;49m_constructor_expanddim\n\u001b[0;32m    490\u001b[0m )\n\u001b[0;32m    491\u001b[0m \u001b[39mreturn\u001b[39;00m unstacker\u001b[39m.\u001b[39mget_result(\n\u001b[0;32m    492\u001b[0m     obj\u001b[39m.\u001b[39m_values, value_columns\u001b[39m=\u001b[39m\u001b[39mNone\u001b[39;00m, fill_value\u001b[39m=\u001b[39mfill_value\n\u001b[0;32m    493\u001b[0m )\n",
      "File \u001b[1;32mc:\\Users\\nehem\\OneDrive\\Documents\\GitHub\\goonies_fantasy_football\\.venv\\Lib\\site-packages\\pandas\\core\\reshape\\reshape.py:136\u001b[0m, in \u001b[0;36m_Unstacker.__init__\u001b[1;34m(self, index, level, constructor)\u001b[0m\n\u001b[0;32m    128\u001b[0m \u001b[39mif\u001b[39;00m num_cells \u001b[39m>\u001b[39m np\u001b[39m.\u001b[39miinfo(np\u001b[39m.\u001b[39mint32)\u001b[39m.\u001b[39mmax:\n\u001b[0;32m    129\u001b[0m     warnings\u001b[39m.\u001b[39mwarn(\n\u001b[0;32m    130\u001b[0m         \u001b[39mf\u001b[39m\u001b[39m\"\u001b[39m\u001b[39mThe following operation may generate \u001b[39m\u001b[39m{\u001b[39;00mnum_cells\u001b[39m}\u001b[39;00m\u001b[39m cells \u001b[39m\u001b[39m\"\u001b[39m\n\u001b[0;32m    131\u001b[0m         \u001b[39mf\u001b[39m\u001b[39m\"\u001b[39m\u001b[39min the resulting pandas object.\u001b[39m\u001b[39m\"\u001b[39m,\n\u001b[0;32m    132\u001b[0m         PerformanceWarning,\n\u001b[0;32m    133\u001b[0m         stacklevel\u001b[39m=\u001b[39mfind_stack_level(),\n\u001b[0;32m    134\u001b[0m     )\n\u001b[1;32m--> 136\u001b[0m \u001b[39mself\u001b[39;49m\u001b[39m.\u001b[39;49m_make_selectors()\n",
      "File \u001b[1;32mc:\\Users\\nehem\\OneDrive\\Documents\\GitHub\\goonies_fantasy_football\\.venv\\Lib\\site-packages\\pandas\\core\\reshape\\reshape.py:188\u001b[0m, in \u001b[0;36m_Unstacker._make_selectors\u001b[1;34m(self)\u001b[0m\n\u001b[0;32m    185\u001b[0m mask\u001b[39m.\u001b[39mput(selector, \u001b[39mTrue\u001b[39;00m)\n\u001b[0;32m    187\u001b[0m \u001b[39mif\u001b[39;00m mask\u001b[39m.\u001b[39msum() \u001b[39m<\u001b[39m \u001b[39mlen\u001b[39m(\u001b[39mself\u001b[39m\u001b[39m.\u001b[39mindex):\n\u001b[1;32m--> 188\u001b[0m     \u001b[39mraise\u001b[39;00m \u001b[39mValueError\u001b[39;00m(\u001b[39m\"\u001b[39m\u001b[39mIndex contains duplicate entries, cannot reshape\u001b[39m\u001b[39m\"\u001b[39m)\n\u001b[0;32m    190\u001b[0m \u001b[39mself\u001b[39m\u001b[39m.\u001b[39mgroup_index \u001b[39m=\u001b[39m comp_index\n\u001b[0;32m    191\u001b[0m \u001b[39mself\u001b[39m\u001b[39m.\u001b[39mmask \u001b[39m=\u001b[39m mask\n",
      "\u001b[1;31mValueError\u001b[0m: Index contains duplicate entries, cannot reshape"
     ]
    }
   ],
   "source": [
    "# Get the schedule\n",
    "schedule_df = own.owner_schedule(league, owners)"
   ]
  },
  {
   "cell_type": "code",
   "execution_count": 28,
   "metadata": {},
   "outputs": [
    {
     "data": {
      "text/html": [
       "<div>\n",
       "<style scoped>\n",
       "    .dataframe tbody tr th:only-of-type {\n",
       "        vertical-align: middle;\n",
       "    }\n",
       "\n",
       "    .dataframe tbody tr th {\n",
       "        vertical-align: top;\n",
       "    }\n",
       "\n",
       "    .dataframe thead th {\n",
       "        text-align: right;\n",
       "    }\n",
       "</style>\n",
       "<table border=\"1\" class=\"dataframe\">\n",
       "  <thead>\n",
       "    <tr style=\"text-align: right;\">\n",
       "      <th></th>\n",
       "      <th>owner</th>\n",
       "      <th>team</th>\n",
       "      <th>team_name</th>\n",
       "      <th>schedule</th>\n",
       "    </tr>\n",
       "  </thead>\n",
       "  <tbody>\n",
       "    <tr>\n",
       "      <th>0</th>\n",
       "      <td>Kevin Fisher</td>\n",
       "      <td>1</td>\n",
       "      <td>Carr-y Me To Round 2</td>\n",
       "      <td>[Team(Purdy Strong 4 A White Guy), Team(Going ...</td>\n",
       "    </tr>\n",
       "    <tr>\n",
       "      <th>1</th>\n",
       "      <td>Jacob Woodward</td>\n",
       "      <td>2</td>\n",
       "      <td>Purdy Strong 4 A White Guy</td>\n",
       "      <td>[Team(Carr-y Me To Round 2), Team(Discount Dou...</td>\n",
       "    </tr>\n",
       "    <tr>\n",
       "      <th>2</th>\n",
       "      <td>Rilee Fisher</td>\n",
       "      <td>3</td>\n",
       "      <td>Hurts My Theilens</td>\n",
       "      <td>[Team(Fort Worth City Knights), Team(What R U ...</td>\n",
       "    </tr>\n",
       "    <tr>\n",
       "      <th>3</th>\n",
       "      <td>Nehemiah Solis</td>\n",
       "      <td>4</td>\n",
       "      <td>What R U Doing Step-Burrow</td>\n",
       "      <td>[Team(The Big D¡cker✨), Team(Hurts My Theilens...</td>\n",
       "    </tr>\n",
       "    <tr>\n",
       "      <th>4</th>\n",
       "      <td>clark norris</td>\n",
       "      <td>5</td>\n",
       "      <td>QB Sadness RB Madness</td>\n",
       "      <td>[Team(Discount Double D¡ck'n), Team(Government...</td>\n",
       "    </tr>\n",
       "    <tr>\n",
       "      <th>5</th>\n",
       "      <td>Jacob Aguirre</td>\n",
       "      <td>6</td>\n",
       "      <td>American Najee Warrior</td>\n",
       "      <td>[Team(Everett Day Im Waddling), Team(Bitcoin  ...</td>\n",
       "    </tr>\n",
       "    <tr>\n",
       "      <th>6</th>\n",
       "      <td>Austin Hatten</td>\n",
       "      <td>7</td>\n",
       "      <td>The Big D¡cker✨</td>\n",
       "      <td>[Team(What R U Doing Step-Burrow), Team(Everet...</td>\n",
       "    </tr>\n",
       "    <tr>\n",
       "      <th>7</th>\n",
       "      <td>Grant Norris</td>\n",
       "      <td>8</td>\n",
       "      <td>Bitcoin  Blough's</td>\n",
       "      <td>[Team(Going Ass Tua Mouth), Team(American Naje...</td>\n",
       "    </tr>\n",
       "    <tr>\n",
       "      <th>8</th>\n",
       "      <td>Frankie Solis</td>\n",
       "      <td>9</td>\n",
       "      <td>Government Funded</td>\n",
       "      <td>[Team(Crazy 8 to pontificate), Team(QB Sadness...</td>\n",
       "    </tr>\n",
       "    <tr>\n",
       "      <th>9</th>\n",
       "      <td>clay rittershuas</td>\n",
       "      <td>10</td>\n",
       "      <td>Discount Double D¡ck'n</td>\n",
       "      <td>[Team(QB Sadness RB Madness), Team(Purdy Stron...</td>\n",
       "    </tr>\n",
       "    <tr>\n",
       "      <th>10</th>\n",
       "      <td>Byron Norris</td>\n",
       "      <td>11</td>\n",
       "      <td>Crazy 8 to pontificate</td>\n",
       "      <td>[Team(Government Funded), Team(Fort Worth City...</td>\n",
       "    </tr>\n",
       "    <tr>\n",
       "      <th>11</th>\n",
       "      <td>Jose Estrada</td>\n",
       "      <td>12</td>\n",
       "      <td>Everett Day Im Waddling</td>\n",
       "      <td>[Team(American Najee Warrior), Team(The Big D¡...</td>\n",
       "    </tr>\n",
       "    <tr>\n",
       "      <th>12</th>\n",
       "      <td>Gary Adams</td>\n",
       "      <td>13</td>\n",
       "      <td>Going Ass Tua Mouth</td>\n",
       "      <td>[Team(Bitcoin  Blough's ), Team(Carr-y Me To R...</td>\n",
       "    </tr>\n",
       "    <tr>\n",
       "      <th>13</th>\n",
       "      <td>Jimmy Dagley</td>\n",
       "      <td>14</td>\n",
       "      <td>Fort Worth City Knights</td>\n",
       "      <td>[Team(Hurts My Theilens), Team(Crazy 8 to pont...</td>\n",
       "    </tr>\n",
       "  </tbody>\n",
       "</table>\n",
       "</div>"
      ],
      "text/plain": [
       "               owner  team                   team_name  \\\n",
       "0       Kevin Fisher     1        Carr-y Me To Round 2   \n",
       "1     Jacob Woodward     2  Purdy Strong 4 A White Guy   \n",
       "2       Rilee Fisher     3           Hurts My Theilens   \n",
       "3     Nehemiah Solis     4  What R U Doing Step-Burrow   \n",
       "4       clark norris     5       QB Sadness RB Madness   \n",
       "5      Jacob Aguirre     6      American Najee Warrior   \n",
       "6      Austin Hatten     7             The Big D¡cker✨   \n",
       "7       Grant Norris     8          Bitcoin  Blough's    \n",
       "8      Frankie Solis     9           Government Funded   \n",
       "9   clay rittershuas    10      Discount Double D¡ck'n   \n",
       "10      Byron Norris    11      Crazy 8 to pontificate   \n",
       "11      Jose Estrada    12     Everett Day Im Waddling   \n",
       "12        Gary Adams    13         Going Ass Tua Mouth   \n",
       "13      Jimmy Dagley    14     Fort Worth City Knights   \n",
       "\n",
       "                                             schedule  \n",
       "0   [Team(Purdy Strong 4 A White Guy), Team(Going ...  \n",
       "1   [Team(Carr-y Me To Round 2), Team(Discount Dou...  \n",
       "2   [Team(Fort Worth City Knights), Team(What R U ...  \n",
       "3   [Team(The Big D¡cker✨), Team(Hurts My Theilens...  \n",
       "4   [Team(Discount Double D¡ck'n), Team(Government...  \n",
       "5   [Team(Everett Day Im Waddling), Team(Bitcoin  ...  \n",
       "6   [Team(What R U Doing Step-Burrow), Team(Everet...  \n",
       "7   [Team(Going Ass Tua Mouth), Team(American Naje...  \n",
       "8   [Team(Crazy 8 to pontificate), Team(QB Sadness...  \n",
       "9   [Team(QB Sadness RB Madness), Team(Purdy Stron...  \n",
       "10  [Team(Government Funded), Team(Fort Worth City...  \n",
       "11  [Team(American Najee Warrior), Team(The Big D¡...  \n",
       "12  [Team(Bitcoin  Blough's ), Team(Carr-y Me To R...  \n",
       "13  [Team(Hurts My Theilens), Team(Crazy 8 to pont...  "
      ]
     },
     "execution_count": 28,
     "metadata": {},
     "output_type": "execute_result"
    }
   ],
   "source": [
    "# Get the schedule for each team\n",
    "schedule = []\n",
    "for team in league.teams:\n",
    "    schedule.append(team.schedule)\n",
    "    \n",
    "# Add the schedule to the dataframe\n",
    "owners_df['schedule'] = schedule\n",
    "owners_df"
   ]
  },
  {
   "cell_type": "code",
   "execution_count": 29,
   "metadata": {
    "ExecuteTime": {
     "end_time": "2023-09-28T13:35:40.103235400Z",
     "start_time": "2023-09-28T13:35:40.098000800Z"
    },
    "collapsed": false
   },
   "outputs": [],
   "source": [
    "# Get the schedule for each team in the league\n",
    "def schedule() -> pd.DataFrame:\n",
    "    data = []\n",
    "    for team in league.teams:\n",
    "        for week in range(1, 18):\n",
    "            data.append({\n",
    "                \"week\": week,\n",
    "                \"team\": team.team_name,\n",
    "                \"opponent\": team.schedule[week-1].team.team_name\n",
    "            })\n",
    "    return pd.DataFrame(data)"
   ]
  },
  {
   "cell_type": "code",
   "execution_count": 30,
   "metadata": {
    "ExecuteTime": {
     "end_time": "2023-09-28T13:36:01.191804700Z",
     "start_time": "2023-09-28T13:36:01.131396800Z"
    },
    "collapsed": false
   },
   "outputs": [
    {
     "ename": "AttributeError",
     "evalue": "'Team' object has no attribute 'team'",
     "output_type": "error",
     "traceback": [
      "\u001b[1;31m---------------------------------------------------------------------------\u001b[0m",
      "\u001b[1;31mAttributeError\u001b[0m                            Traceback (most recent call last)",
      "\u001b[1;32mc:\\Users\\nehem\\OneDrive\\Documents\\GitHub\\goonies_fantasy_football\\notebooks\\01_njs_goonies_EDA.ipynb Cell 13\u001b[0m line \u001b[0;36m1\n\u001b[1;32m----> <a href='vscode-notebook-cell:/c%3A/Users/nehem/OneDrive/Documents/GitHub/goonies_fantasy_football/notebooks/01_njs_goonies_EDA.ipynb#X13sZmlsZQ%3D%3D?line=0'>1</a>\u001b[0m schedule \u001b[39m=\u001b[39m schedule()\n\u001b[0;32m      <a href='vscode-notebook-cell:/c%3A/Users/nehem/OneDrive/Documents/GitHub/goonies_fantasy_football/notebooks/01_njs_goonies_EDA.ipynb#X13sZmlsZQ%3D%3D?line=1'>2</a>\u001b[0m schedule\n",
      "\u001b[1;32mc:\\Users\\nehem\\OneDrive\\Documents\\GitHub\\goonies_fantasy_football\\notebooks\\01_njs_goonies_EDA.ipynb Cell 13\u001b[0m line \u001b[0;36m9\n\u001b[0;32m      <a href='vscode-notebook-cell:/c%3A/Users/nehem/OneDrive/Documents/GitHub/goonies_fantasy_football/notebooks/01_njs_goonies_EDA.ipynb#X13sZmlsZQ%3D%3D?line=3'>4</a>\u001b[0m \u001b[39mfor\u001b[39;00m team \u001b[39min\u001b[39;00m league\u001b[39m.\u001b[39mteams:\n\u001b[0;32m      <a href='vscode-notebook-cell:/c%3A/Users/nehem/OneDrive/Documents/GitHub/goonies_fantasy_football/notebooks/01_njs_goonies_EDA.ipynb#X13sZmlsZQ%3D%3D?line=4'>5</a>\u001b[0m     \u001b[39mfor\u001b[39;00m week \u001b[39min\u001b[39;00m \u001b[39mrange\u001b[39m(\u001b[39m1\u001b[39m, \u001b[39m18\u001b[39m):\n\u001b[0;32m      <a href='vscode-notebook-cell:/c%3A/Users/nehem/OneDrive/Documents/GitHub/goonies_fantasy_football/notebooks/01_njs_goonies_EDA.ipynb#X13sZmlsZQ%3D%3D?line=5'>6</a>\u001b[0m         data\u001b[39m.\u001b[39mappend({\n\u001b[0;32m      <a href='vscode-notebook-cell:/c%3A/Users/nehem/OneDrive/Documents/GitHub/goonies_fantasy_football/notebooks/01_njs_goonies_EDA.ipynb#X13sZmlsZQ%3D%3D?line=6'>7</a>\u001b[0m             \u001b[39m\"\u001b[39m\u001b[39mweek\u001b[39m\u001b[39m\"\u001b[39m: week,\n\u001b[0;32m      <a href='vscode-notebook-cell:/c%3A/Users/nehem/OneDrive/Documents/GitHub/goonies_fantasy_football/notebooks/01_njs_goonies_EDA.ipynb#X13sZmlsZQ%3D%3D?line=7'>8</a>\u001b[0m             \u001b[39m\"\u001b[39m\u001b[39mteam\u001b[39m\u001b[39m\"\u001b[39m: team\u001b[39m.\u001b[39mteam_name,\n\u001b[1;32m----> <a href='vscode-notebook-cell:/c%3A/Users/nehem/OneDrive/Documents/GitHub/goonies_fantasy_football/notebooks/01_njs_goonies_EDA.ipynb#X13sZmlsZQ%3D%3D?line=8'>9</a>\u001b[0m             \u001b[39m\"\u001b[39m\u001b[39mopponent\u001b[39m\u001b[39m\"\u001b[39m: team\u001b[39m.\u001b[39;49mschedule[week\u001b[39m-\u001b[39;49m\u001b[39m1\u001b[39;49m]\u001b[39m.\u001b[39;49mteam\u001b[39m.\u001b[39mteam_name\n\u001b[0;32m     <a href='vscode-notebook-cell:/c%3A/Users/nehem/OneDrive/Documents/GitHub/goonies_fantasy_football/notebooks/01_njs_goonies_EDA.ipynb#X13sZmlsZQ%3D%3D?line=9'>10</a>\u001b[0m         })\n\u001b[0;32m     <a href='vscode-notebook-cell:/c%3A/Users/nehem/OneDrive/Documents/GitHub/goonies_fantasy_football/notebooks/01_njs_goonies_EDA.ipynb#X13sZmlsZQ%3D%3D?line=10'>11</a>\u001b[0m \u001b[39mreturn\u001b[39;00m pd\u001b[39m.\u001b[39mDataFrame(data)\n",
      "\u001b[1;31mAttributeError\u001b[0m: 'Team' object has no attribute 'team'"
     ]
    }
   ],
   "source": [
    "schedule = schedule()\n",
    "schedule"
   ]
  },
  {
   "cell_type": "code",
   "execution_count": null,
   "metadata": {},
   "outputs": [],
   "source": [
    "import pandas as pd\n",
    "import numpy as np\n",
    "\n",
    "# Create a dataframe of players on the each team per week\n",
    "df = pd.DataFrame()\n",
    "data = []\n",
    "\n",
    "for week in range(1, 18):\n",
    "    box_scores = league.box_scores(week)\n",
    "    for box_score in box_scores:\n",
    "        for player in box_score.home_lineup:\n",
    "            data.append({\n",
    "                \"week\": week,\n",
    "                \"team\": box_score.home_team.team_name,\n",
    "                \"player\": player.name,\n",
    "                \"position\": player.position,\n",
    "                \"points\": player.points\n",
    "            })\n",
    "        for player in box_score.away_lineup:\n",
    "            data.append({\n",
    "                \"week\": week,\n",
    "                \"team\": box_score.away_team.team_name,\n",
    "                \"player\": player.name,\n",
    "                \"position\": player.position,\n",
    "                \"points\": player.points\n",
    "            })\n",
    "\n",
    "df = pd.DataFrame(data)\n"
   ]
  },
  {
   "cell_type": "code",
   "execution_count": null,
   "metadata": {},
   "outputs": [
    {
     "data": {
      "text/html": [
       "<div>\n",
       "<style scoped>\n",
       "    .dataframe tbody tr th:only-of-type {\n",
       "        vertical-align: middle;\n",
       "    }\n",
       "\n",
       "    .dataframe tbody tr th {\n",
       "        vertical-align: top;\n",
       "    }\n",
       "\n",
       "    .dataframe thead th {\n",
       "        text-align: right;\n",
       "    }\n",
       "</style>\n",
       "<table border=\"1\" class=\"dataframe\">\n",
       "  <thead>\n",
       "    <tr style=\"text-align: right;\">\n",
       "      <th></th>\n",
       "      <th>week</th>\n",
       "      <th>team</th>\n",
       "      <th>player</th>\n",
       "      <th>position</th>\n",
       "      <th>points</th>\n",
       "    </tr>\n",
       "  </thead>\n",
       "  <tbody>\n",
       "    <tr>\n",
       "      <th>0</th>\n",
       "      <td>1</td>\n",
       "      <td>Government Funded</td>\n",
       "      <td>Davante Adams</td>\n",
       "      <td>WR</td>\n",
       "      <td>25.10</td>\n",
       "    </tr>\n",
       "    <tr>\n",
       "      <th>1</th>\n",
       "      <td>1</td>\n",
       "      <td>Government Funded</td>\n",
       "      <td>Stefon Diggs</td>\n",
       "      <td>WR</td>\n",
       "      <td>22.20</td>\n",
       "    </tr>\n",
       "    <tr>\n",
       "      <th>2</th>\n",
       "      <td>1</td>\n",
       "      <td>Government Funded</td>\n",
       "      <td>DJ Moore</td>\n",
       "      <td>WR</td>\n",
       "      <td>6.50</td>\n",
       "    </tr>\n",
       "    <tr>\n",
       "      <th>3</th>\n",
       "      <td>1</td>\n",
       "      <td>Government Funded</td>\n",
       "      <td>J.K. Dobbins</td>\n",
       "      <td>RB</td>\n",
       "      <td>0.00</td>\n",
       "    </tr>\n",
       "    <tr>\n",
       "      <th>4</th>\n",
       "      <td>1</td>\n",
       "      <td>Government Funded</td>\n",
       "      <td>Justin Herbert</td>\n",
       "      <td>QB</td>\n",
       "      <td>23.26</td>\n",
       "    </tr>\n",
       "  </tbody>\n",
       "</table>\n",
       "</div>"
      ],
      "text/plain": [
       "   week               team          player position  points\n",
       "0     1  Government Funded   Davante Adams       WR   25.10\n",
       "1     1  Government Funded    Stefon Diggs       WR   22.20\n",
       "2     1  Government Funded        DJ Moore       WR    6.50\n",
       "3     1  Government Funded    J.K. Dobbins       RB    0.00\n",
       "4     1  Government Funded  Justin Herbert       QB   23.26"
      ]
     },
     "execution_count": 24,
     "metadata": {},
     "output_type": "execute_result"
    }
   ],
   "source": [
    "df.head()"
   ]
  },
  {
   "cell_type": "code",
   "execution_count": null,
   "metadata": {},
   "outputs": [
    {
     "data": {
      "text/plain": [
       "[Activity((Team(Discount Double D¡ck'n),TRADED,Player(David Montgomery)) (Team(What R U Doing Step-Burrow),TRADED,Player(D'Andre Swift))),\n",
       " Activity((Team(American Najee Warrior),TRADED,Player(Joshua Palmer)) (Team(Government Funded),TRADED,Player(Kalif Raymond))),\n",
       " Activity((Team(Government Funded),TRADED,Player(Joshua Palmer)) (Team(American Najee Warrior),TRADED,Player(Kalif Raymond))),\n",
       " Activity((Team(American Najee Warrior),TRADED,Player(Chuba Hubbard)) (Team(Discount Double D¡ck'n),TRADED,Player(Nico Collins))),\n",
       " Activity((Team(Government Funded),TRADED,Player(Jets D/ST)) (Team(Going Ass Tua Mouth),TRADED,Player(Bills D/ST))),\n",
       " Activity((Team(Bitcoin  Blough's ),TRADED,Player(Terry McLaurin)) (Team(Going Ass Tua Mouth),TRADED,Player(Derrick Henry)) (Team(Bitcoin  Blough's ),TRADED,Player(A.J. Brown)) (Team(Bitcoin  Blough's ),TRADED,Player(Rhamondre Stevenson)) (Team(Going Ass Tua Mouth),TRADED,Player(DeAndre Hopkins)) (Team(Bitcoin  Blough's ),TRADED,Player(J.K. Dobbins))),\n",
       " Activity((Team(Discount Double D¡ck'n),TRADED,Player(Chris Olave)) (Team(Succop On My Cousins Hunt),TRADED,Player(Christian Kirk)) (Team(Discount Double D¡ck'n),TRADED,Player(Raheem Mostert))),\n",
       " Activity((Team(Succop On My Cousins Hunt),TRADED,Player(Evan Engram)) (Team(Bitcoin  Blough's ),TRADED,Player(DK Metcalf)) (Team(Succop On My Cousins Hunt),TRADED,Player(Dalvin Cook)) (Team(Bitcoin  Blough's ),TRADED,Player(Leonard Fournette)) (Team(Succop On My Cousins Hunt),TRADED,Player(Terry McLaurin)) (Team(Bitcoin  Blough's ),TRADED,Player(Dalton Schultz))),\n",
       " Activity((Team(What R U Doing Step-Burrow),TRADED,Player(David Njoku)) (Team(Going Ass Tua Mouth),TRADED,Player(D'Andre Swift)) (Team(What R U Doing Step-Burrow),TRADED,Player(Nico Collins))),\n",
       " Activity((Team(Purdy Strong 4 A White Guy),TRADED,Player(Kirk Cousins)) (Team(Purdy Strong 4 A White Guy),TRADED,Player(Christian Kirk)) (Team(Succop On My Cousins Hunt),TRADED,Player(Lamar Jackson)) (Team(Succop On My Cousins Hunt),TRADED,Player(Keenan Allen))),\n",
       " Activity((Team(Discount Double D¡ck'n),TRADED,Player(DeAndre Hopkins)) (Team(Going Ass Tua Mouth),TRADED,Player(Raheem Mostert)) (Team(Discount Double D¡ck'n),TRADED,Player(D'Andre Swift)) (Team(Going Ass Tua Mouth),TRADED,Player(David Montgomery)) (Team(Going Ass Tua Mouth),TRADED,Player(Mike Evans)) (Team(Discount Double D¡ck'n),TRADED,Player(Terrace Marshall Jr.))),\n",
       " Activity((Team(Going Ass Tua Mouth),TRADED,Player(Rashod Bateman)) (Team(Everett Day Im Waddling),TRADED,Player(Tua Tagovailoa))),\n",
       " Activity((Team(What R U Doing Step-Burrow),TRADED,Player(J.K. Dobbins)) (Team(What R U Doing Step-Burrow),TRADED,Player(Dalton Schultz)) (Team(Bitcoin  Blough's ),TRADED,Player(David Njoku)) (Team(Bitcoin  Blough's ),TRADED,Player(Michael Carter))),\n",
       " Activity((Team(Discount Double D¡ck'n),TRADED,Player(Tyler Lockett)) (Team(This Just In Dak sucks),TRADED,Player(Tom Brady))),\n",
       " Activity((Team(Purdy Strong 4 A White Guy),TRADED,Player(Amon-Ra St. Brown)) (Team(Bitcoin  Blough's ),TRADED,Player(Brian Robinson Jr.)) (Team(Bitcoin  Blough's ),TRADED,Player(Courtland Sutton))),\n",
       " Activity((Team(Going Ass Tua Mouth),TRADED,Player(Terry McLaurin)) (Team(Succop On My Cousins Hunt),TRADED,Player(Jerry Jeudy)) (Team(Succop On My Cousins Hunt),TRADED,Player(Rashod Bateman))),\n",
       " Activity((Team(Government Funded),TRADED,Player(Dawson Knox)) (Team(Carr-y Me To Round 2),TRADED,Player(Mike Gesicki))),\n",
       " Activity((Team(Discount Double D¡ck'n),TRADED,Player(Younghoe Koo)) (Team(Discount Double D¡ck'n),TRADED,Player(AJ Dillon)) (Team(Hurts My Theilens),TRADED,Player(Evan McPherson)) (Team(Hurts My Theilens),TRADED,Player(DeAndre Hopkins))),\n",
       " Activity((Team(Government Funded),TRADED,Player(DJ Chark)) (Team(What R U Doing Step-Burrow),TRADED,Player(Kenneth Gainwell))),\n",
       " Activity((Team(QB Sadness RB Madness),TRADED,Player(T.J. Hockenson)) (Team(Hurts My Theilens),TRADED,Player(Travis Kelce)) (Team(QB Sadness RB Madness),TRADED,Player(Mike Williams))),\n",
       " Activity((Team(Government Funded),TRADED,Player(Matthew Stafford)) (Team(Succop On My Cousins Hunt),TRADED,Player(Carson Wentz))),\n",
       " Activity((Team(Government Funded),TRADED,Player(DJ Moore)) (Team(Succop On My Cousins Hunt),TRADED,Player(Michael Gallup))),\n",
       " Activity((Team(Government Funded),TRADED,Player(AJ Dillon)) (Team(Discount Double D¡ck'n),TRADED,Player(Devin Duvernay))),\n",
       " Activity((Team(Carr-y Me To Round 2),TRADED,Player(Mike Williams)) (Team(QB Sadness RB Madness),TRADED,Player(Damien Harris))),\n",
       " Activity((Team(Succop On My Cousins Hunt),TRADED,Player(Tyler Boyd)) (Team(American Najee Warrior),TRADED,Player(Hunter Renfrow)) (Team(Succop On My Cousins Hunt),TRADED,Player(Broncos D/ST)) (Team(American Najee Warrior),TRADED,Player(Rams D/ST)))]"
      ]
     },
     "execution_count": 39,
     "metadata": {},
     "output_type": "execute_result"
    }
   ],
   "source": [
    "# Get the trades made per week per team in a dataframe. In the league.recent_activity() method\n",
    "trades = league.recent_activity(msg_type=\"TRADED\")\n",
    "# for activity in trades:\n",
    "#     for trade in activity.actions:\n",
    "#         trade\n",
    "#     print('\\n')\n",
    "\n",
    "trades"
   ]
  },
  {
   "cell_type": "code",
   "execution_count": null,
   "metadata": {},
   "outputs": [
    {
     "data": {
      "text/plain": [
       "[(Team(Discount Double D¡ck'n), 'TRADED', Player(David Montgomery), 0),\n",
       " (Team(What R U Doing Step-Burrow), 'TRADED', Player(D'Andre Swift), 0)]"
      ]
     },
     "execution_count": 41,
     "metadata": {},
     "output_type": "execute_result"
    }
   ],
   "source": [
    "trades[0].actions"
   ]
  },
  {
   "cell_type": "code",
   "execution_count": null,
   "metadata": {},
   "outputs": [
    {
     "data": {
      "text/plain": [
       "'c:\\\\Users\\\\nehem\\\\OneDrive\\\\Documents\\\\GitHub\\\\goonies_fantasy_football\\\\notebooks'"
      ]
     },
     "execution_count": 29,
     "metadata": {},
     "output_type": "execute_result"
    }
   ],
   "source": [
    "# get current directory\n",
    "import os\n",
    "os.getcwd()"
   ]
  },
  {
   "cell_type": "code",
   "execution_count": null,
   "metadata": {},
   "outputs": [],
   "source": [
    "df.to_excel(\"2021_player_data.xlsx\")"
   ]
  },
  {
   "cell_type": "code",
   "execution_count": null,
   "metadata": {},
   "outputs": [
    {
     "ename": "DoesNotExistException",
     "evalue": "Owner name 'clark norris' does not match any previously loaded owner names. To add multiple names for a single owner, use the 'ownerNamesAndAliases' keyword argument to define them.",
     "output_type": "error",
     "traceback": [
      "\u001b[1;31m---------------------------------------------------------------------------\u001b[0m",
      "\u001b[1;31mDoesNotExistException\u001b[0m                     Traceback (most recent call last)",
      "Cell \u001b[1;32mIn[50], line 15\u001b[0m\n\u001b[0;32m      4\u001b[0m \u001b[39mif\u001b[39;00m \u001b[39m__name__\u001b[39m \u001b[39m==\u001b[39m \u001b[39m\"\u001b[39m\u001b[39m__main__\u001b[39m\u001b[39m\"\u001b[39m:\n\u001b[0;32m      5\u001b[0m     \u001b[39m# PRIVATE LEAGUE\u001b[39;00m\n\u001b[0;32m      6\u001b[0m     \u001b[39m# You will need the ESPN_S2 and SWID parameters to retrieve a private league.\u001b[39;00m\n\u001b[1;32m   (...)\u001b[0m\n\u001b[0;32m     12\u001b[0m     \u001b[39m# 5. The values you need are called \"SWID\" and \"ESPN_S2\". You can right-click and copy the values from here.\u001b[39;00m\n\u001b[0;32m     13\u001b[0m     \u001b[39m# Get a League object with years 2019 and 2020 for ESPN league with ID: \"12345678\".\u001b[39;00m\n\u001b[0;32m     14\u001b[0m     espnLeagueLoader \u001b[39m=\u001b[39m ESPNLeagueLoader(\u001b[39mf\u001b[39m\u001b[39m\"\u001b[39m\u001b[39m{\u001b[39;00mleague_id\u001b[39m}\u001b[39;00m\u001b[39m\"\u001b[39m, [\u001b[39m2021\u001b[39m,\u001b[39m2022\u001b[39m], espnS2\u001b[39m=\u001b[39mespn_s2, swid\u001b[39m=\u001b[39mswid)\n\u001b[1;32m---> 15\u001b[0m     league: League \u001b[39m=\u001b[39m espnLeagueLoader\u001b[39m.\u001b[39;49mloadLeague()\n",
      "File \u001b[1;32mc:\\Users\\nehem\\OneDrive\\Documents\\GitHub\\goonies_fantasy_football\\.venv\\Lib\\site-packages\\leeger\\league_loader\\ESPNLeagueLoader.py:87\u001b[0m, in \u001b[0;36mESPNLeagueLoader.loadLeague\u001b[1;34m(self, validate)\u001b[0m\n\u001b[0;32m     85\u001b[0m \u001b[39mdef\u001b[39;00m \u001b[39mloadLeague\u001b[39m(\u001b[39mself\u001b[39m, validate: \u001b[39mbool\u001b[39m \u001b[39m=\u001b[39m \u001b[39mTrue\u001b[39;00m) \u001b[39m-\u001b[39m\u001b[39m>\u001b[39m League:\n\u001b[0;32m     86\u001b[0m     espnLeagueYears \u001b[39m=\u001b[39m \u001b[39mself\u001b[39m\u001b[39m.\u001b[39m__getAllLeagues()\n\u001b[1;32m---> 87\u001b[0m     league \u001b[39m=\u001b[39m \u001b[39mself\u001b[39;49m\u001b[39m.\u001b[39;49m__buildLeague(espnLeagueYears)\n\u001b[0;32m     88\u001b[0m     \u001b[39mif\u001b[39;00m validate:\n\u001b[0;32m     89\u001b[0m         \u001b[39m# validate new league\u001b[39;00m\n\u001b[0;32m     90\u001b[0m         leagueValidation\u001b[39m.\u001b[39mrunAllChecks(league)\n",
      "File \u001b[1;32mc:\\Users\\nehem\\OneDrive\\Documents\\GitHub\\goonies_fantasy_football\\.venv\\Lib\\site-packages\\leeger\\league_loader\\ESPNLeagueLoader.py:99\u001b[0m, in \u001b[0;36mESPNLeagueLoader.__buildLeague\u001b[1;34m(self, espnLeagues)\u001b[0m\n\u001b[0;32m     97\u001b[0m     \u001b[39mself\u001b[39m\u001b[39m.\u001b[39m_leagueNameByYear[espnLeague\u001b[39m.\u001b[39myear] \u001b[39m=\u001b[39m espnLeague\u001b[39m.\u001b[39msettings\u001b[39m.\u001b[39mname\n\u001b[0;32m     98\u001b[0m     \u001b[39mself\u001b[39m\u001b[39m.\u001b[39m__loadOwners(espnLeague\u001b[39m.\u001b[39mteams)\n\u001b[1;32m---> 99\u001b[0m     years\u001b[39m.\u001b[39mappend(\u001b[39mself\u001b[39;49m\u001b[39m.\u001b[39;49m__buildYear(espnLeague))\n\u001b[0;32m    100\u001b[0m \u001b[39mreturn\u001b[39;00m League(\n\u001b[0;32m    101\u001b[0m     name\u001b[39m=\u001b[39m\u001b[39mself\u001b[39m\u001b[39m.\u001b[39m_getLeagueName(), owners\u001b[39m=\u001b[39m\u001b[39mself\u001b[39m\u001b[39m.\u001b[39m_owners, years\u001b[39m=\u001b[39m\u001b[39mself\u001b[39m\u001b[39m.\u001b[39m_getValidYears(years)\n\u001b[0;32m    102\u001b[0m )\n",
      "File \u001b[1;32mc:\\Users\\nehem\\OneDrive\\Documents\\GitHub\\goonies_fantasy_football\\.venv\\Lib\\site-packages\\leeger\\league_loader\\ESPNLeagueLoader.py:118\u001b[0m, in \u001b[0;36mESPNLeagueLoader.__buildYear\u001b[1;34m(self, espnLeague)\u001b[0m\n\u001b[0;32m    116\u001b[0m \u001b[39mfor\u001b[39;00m espnDivisionId, espnDivisionName \u001b[39min\u001b[39;00m espnLeague\u001b[39m.\u001b[39msettings\u001b[39m.\u001b[39mdivision_map\u001b[39m.\u001b[39mitems():\n\u001b[0;32m    117\u001b[0m     \u001b[39mself\u001b[39m\u001b[39m.\u001b[39m__espnDivisionIdToDivisionMap[espnDivisionId] \u001b[39m=\u001b[39m Division(name\u001b[39m=\u001b[39mespnDivisionName)\n\u001b[1;32m--> 118\u001b[0m teams \u001b[39m=\u001b[39m \u001b[39mself\u001b[39;49m\u001b[39m.\u001b[39;49m__buildTeams(espnLeague\u001b[39m.\u001b[39;49mteams)\n\u001b[0;32m    119\u001b[0m weeks \u001b[39m=\u001b[39m \u001b[39mself\u001b[39m\u001b[39m.\u001b[39m__buildWeeks(espnLeague)\n\u001b[0;32m    120\u001b[0m \u001b[39m# TODO: see if there are cases where ESPN leagues do NOT have divisions\u001b[39;00m\n",
      "File \u001b[1;32mc:\\Users\\nehem\\OneDrive\\Documents\\GitHub\\goonies_fantasy_football\\.venv\\Lib\\site-packages\\leeger\\league_loader\\ESPNLeagueLoader.py:228\u001b[0m, in \u001b[0;36mESPNLeagueLoader.__buildTeams\u001b[1;34m(self, espnTeams)\u001b[0m\n\u001b[0;32m    225\u001b[0m \u001b[39mfor\u001b[39;00m espnTeam \u001b[39min\u001b[39;00m espnTeams:\n\u001b[0;32m    226\u001b[0m     \u001b[39m# TODO: see if there are cases where ESPN leagues do NOT have divisions\u001b[39;00m\n\u001b[0;32m    227\u001b[0m     divisionId \u001b[39m=\u001b[39m \u001b[39mself\u001b[39m\u001b[39m.\u001b[39m__espnDivisionIdToDivisionMap[espnTeam\u001b[39m.\u001b[39mdivision_id]\u001b[39m.\u001b[39mid\n\u001b[1;32m--> 228\u001b[0m     owner \u001b[39m=\u001b[39m \u001b[39mself\u001b[39;49m\u001b[39m.\u001b[39;49m_getOwnerByName(espnTeam\u001b[39m.\u001b[39;49mowner)\n\u001b[0;32m    229\u001b[0m     team \u001b[39m=\u001b[39m Team(ownerId\u001b[39m=\u001b[39mowner\u001b[39m.\u001b[39mid, name\u001b[39m=\u001b[39mespnTeam\u001b[39m.\u001b[39mteam_name, divisionId\u001b[39m=\u001b[39mdivisionId)\n\u001b[0;32m    230\u001b[0m     teams\u001b[39m.\u001b[39mappend(team)\n",
      "File \u001b[1;32mc:\\Users\\nehem\\OneDrive\\Documents\\GitHub\\goonies_fantasy_football\\.venv\\Lib\\site-packages\\leeger\\league_loader\\LeagueLoader.py:96\u001b[0m, in \u001b[0;36mLeagueLoader._getOwnerByName\u001b[1;34m(self, ownerName)\u001b[0m\n\u001b[0;32m     94\u001b[0m     \u001b[39mif\u001b[39;00m ownerName \u001b[39m==\u001b[39m owner\u001b[39m.\u001b[39mname \u001b[39mor\u001b[39;00m generalOwnerName \u001b[39m==\u001b[39m owner\u001b[39m.\u001b[39mname:\n\u001b[0;32m     95\u001b[0m         \u001b[39mreturn\u001b[39;00m owner\n\u001b[1;32m---> 96\u001b[0m \u001b[39mraise\u001b[39;00m DoesNotExistException(\n\u001b[0;32m     97\u001b[0m     \u001b[39mf\u001b[39m\u001b[39m\"\u001b[39m\u001b[39mOwner name \u001b[39m\u001b[39m'\u001b[39m\u001b[39m{\u001b[39;00mownerName\u001b[39m}\u001b[39;00m\u001b[39m'\u001b[39m\u001b[39m does not match any previously loaded owner names. To add multiple names for a single owner, use the \u001b[39m\u001b[39m'\u001b[39m\u001b[39mownerNamesAndAliases\u001b[39m\u001b[39m'\u001b[39m\u001b[39m keyword argument to define them.\u001b[39m\u001b[39m\"\u001b[39m\n\u001b[0;32m     98\u001b[0m )\n",
      "\u001b[1;31mDoesNotExistException\u001b[0m: Owner name 'clark norris' does not match any previously loaded owner names. To add multiple names for a single owner, use the 'ownerNamesAndAliases' keyword argument to define them."
     ]
    }
   ],
   "source": [
    "from leeger.league_loader import ESPNLeagueLoader\n",
    "from leeger.model.league import League\n",
    "\n",
    "if __name__ == \"__main__\":\n",
    "    # PRIVATE LEAGUE\n",
    "    # You will need the ESPN_S2 and SWID parameters to retrieve a private league.\n",
    "    # To retrieve these, follow these steps:\n",
    "    # 1. Visit your main league page (i.e. https://fantasy.espn.com/football/team?leagueId=12345678seasonId=2020)\n",
    "    # 2. Make sure you are logged in.\n",
    "    # 3. Open Developer Tools (on Chrome/Firefox, right-click anywhere on the page and select Inspect Element)\n",
    "    # 4. Go to Storage (for Firefox) or Application (for Chrome) and browse the Cookies available for fantasy.espn.com\n",
    "    # 5. The values you need are called \"SWID\" and \"ESPN_S2\". You can right-click and copy the values from here.\n",
    "    # Get a League object with years 2019 and 2020 for ESPN league with ID: \"12345678\".\n",
    "    espnLeagueLoader = ESPNLeagueLoader(f\"{league_id}\", [2021,2022], espnS2=espn_s2, swid=swid)\n",
    "    league: League = espnLeagueLoader.loadLeague()"
   ]
  },
  {
   "cell_type": "code",
   "execution_count": null,
   "metadata": {},
   "outputs": [],
   "source": []
  }
 ],
 "metadata": {
  "kernelspec": {
   "display_name": ".venv",
   "language": "python",
   "name": "python3"
  },
  "language_info": {
   "codemirror_mode": {
    "name": "ipython",
    "version": 3
   },
   "file_extension": ".py",
   "mimetype": "text/x-python",
   "name": "python",
   "nbconvert_exporter": "python",
   "pygments_lexer": "ipython3",
   "version": "3.11.3"
  },
  "orig_nbformat": 4
 },
 "nbformat": 4,
 "nbformat_minor": 2
}
