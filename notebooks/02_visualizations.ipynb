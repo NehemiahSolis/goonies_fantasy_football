{
 "cells": [
  {
   "cell_type": "code",
   "execution_count": 2,
   "metadata": {},
   "outputs": [],
   "source": [
    "from espn_api.football import League\n",
    "import pandas as pd\n",
    "import sys\n",
    "sys.path.append('../src/data')\n",
    "import import_league as il\n",
    "import owners as own\n",
    "import matplotlib.pyplot as plt\n",
    "import seaborn as sns\n",
    "import numpy as np\n",
    "import plotly\n",
    "import plotly.express as px\n",
    "import plotly.graph_objects as go\n",
    "from plotly.subplots import make_subplots"
   ]
  },
  {
   "cell_type": "code",
   "execution_count": 3,
   "metadata": {},
   "outputs": [],
   "source": [
    "league_id = 201187\n",
    "year = 2023\n",
    "league = il.import_league(league_id, year)"
   ]
  },
  {
   "cell_type": "code",
   "execution_count": 4,
   "metadata": {},
   "outputs": [],
   "source": [
    "# Create dataframe of all players\n",
    "players = []\n",
    "for team in league.teams:\n",
    "    for player in team.roster:\n",
    "        players.append(player)\n",
    "        \n",
    "df = pd.DataFrame([player.__dict__ for player in players])"
   ]
  },
  {
   "cell_type": "code",
   "execution_count": 5,
   "metadata": {},
   "outputs": [
    {
     "data": {
      "text/html": [
       "<div>\n",
       "<style scoped>\n",
       "    .dataframe tbody tr th:only-of-type {\n",
       "        vertical-align: middle;\n",
       "    }\n",
       "\n",
       "    .dataframe tbody tr th {\n",
       "        vertical-align: top;\n",
       "    }\n",
       "\n",
       "    .dataframe thead th {\n",
       "        text-align: right;\n",
       "    }\n",
       "</style>\n",
       "<table border=\"1\" class=\"dataframe\">\n",
       "  <thead>\n",
       "    <tr style=\"text-align: right;\">\n",
       "      <th></th>\n",
       "      <th>name</th>\n",
       "      <th>playerId</th>\n",
       "      <th>posRank</th>\n",
       "      <th>eligibleSlots</th>\n",
       "      <th>acquisitionType</th>\n",
       "      <th>proTeam</th>\n",
       "      <th>injuryStatus</th>\n",
       "      <th>onTeamId</th>\n",
       "      <th>stats</th>\n",
       "      <th>position</th>\n",
       "      <th>injured</th>\n",
       "      <th>percent_owned</th>\n",
       "      <th>percent_started</th>\n",
       "      <th>total_points</th>\n",
       "      <th>projected_total_points</th>\n",
       "    </tr>\n",
       "  </thead>\n",
       "  <tbody>\n",
       "    <tr>\n",
       "      <th>0</th>\n",
       "      <td>Christian McCaffrey</td>\n",
       "      <td>3117251</td>\n",
       "      <td>1</td>\n",
       "      <td>[RB, RB/WR, RB/WR/TE, OP, BE, IR]</td>\n",
       "      <td>DRAFT</td>\n",
       "      <td>SF</td>\n",
       "      <td>QUESTIONABLE</td>\n",
       "      <td>2</td>\n",
       "      <td>{0: {'points': 136.5, 'breakdown': {'rushingAt...</td>\n",
       "      <td>RB</td>\n",
       "      <td>False</td>\n",
       "      <td>99.95</td>\n",
       "      <td>99.83</td>\n",
       "      <td>136.50</td>\n",
       "      <td>240.12</td>\n",
       "    </tr>\n",
       "    <tr>\n",
       "      <th>1</th>\n",
       "      <td>Jalen Hurts</td>\n",
       "      <td>4040715</td>\n",
       "      <td>2</td>\n",
       "      <td>[QB, OP, BE, IR]</td>\n",
       "      <td>DRAFT</td>\n",
       "      <td>PHI</td>\n",
       "      <td>ACTIVE</td>\n",
       "      <td>2</td>\n",
       "      <td>{0: {'points': 128.98, 'breakdown': {'passingA...</td>\n",
       "      <td>QB</td>\n",
       "      <td>False</td>\n",
       "      <td>99.91</td>\n",
       "      <td>95.60</td>\n",
       "      <td>128.98</td>\n",
       "      <td>338.00</td>\n",
       "    </tr>\n",
       "    <tr>\n",
       "      <th>2</th>\n",
       "      <td>James Conner</td>\n",
       "      <td>3045147</td>\n",
       "      <td>21</td>\n",
       "      <td>[RB, RB/WR, RB/WR/TE, OP, BE, IR]</td>\n",
       "      <td>DRAFT</td>\n",
       "      <td>ARI</td>\n",
       "      <td>INJURY_RESERVE</td>\n",
       "      <td>2</td>\n",
       "      <td>{6: {'points': 0.0, 'breakdown': {}, 'projecte...</td>\n",
       "      <td>RB</td>\n",
       "      <td>True</td>\n",
       "      <td>89.64</td>\n",
       "      <td>11.45</td>\n",
       "      <td>55.40</td>\n",
       "      <td>181.31</td>\n",
       "    </tr>\n",
       "    <tr>\n",
       "      <th>3</th>\n",
       "      <td>Eagles D/ST</td>\n",
       "      <td>-16021</td>\n",
       "      <td>11</td>\n",
       "      <td>[D/ST, BE, IR]</td>\n",
       "      <td>DRAFT</td>\n",
       "      <td>PHI</td>\n",
       "      <td>NORMAL</td>\n",
       "      <td>2</td>\n",
       "      <td>{0: {'points': 74.0, 'breakdown': {'defensive0...</td>\n",
       "      <td>D/ST</td>\n",
       "      <td>False</td>\n",
       "      <td>91.27</td>\n",
       "      <td>81.71</td>\n",
       "      <td>74.00</td>\n",
       "      <td>153.08</td>\n",
       "    </tr>\n",
       "    <tr>\n",
       "      <th>4</th>\n",
       "      <td>Kenneth Gainwell</td>\n",
       "      <td>4371733</td>\n",
       "      <td>51</td>\n",
       "      <td>[RB, RB/WR, RB/WR/TE, OP, BE, IR]</td>\n",
       "      <td>DRAFT</td>\n",
       "      <td>PHI</td>\n",
       "      <td>ACTIVE</td>\n",
       "      <td>2</td>\n",
       "      <td>{0: {'points': 24.9, 'breakdown': {'rushingAtt...</td>\n",
       "      <td>RB</td>\n",
       "      <td>False</td>\n",
       "      <td>30.38</td>\n",
       "      <td>3.69</td>\n",
       "      <td>24.90</td>\n",
       "      <td>80.04</td>\n",
       "    </tr>\n",
       "    <tr>\n",
       "      <th>...</th>\n",
       "      <td>...</td>\n",
       "      <td>...</td>\n",
       "      <td>...</td>\n",
       "      <td>...</td>\n",
       "      <td>...</td>\n",
       "      <td>...</td>\n",
       "      <td>...</td>\n",
       "      <td>...</td>\n",
       "      <td>...</td>\n",
       "      <td>...</td>\n",
       "      <td>...</td>\n",
       "      <td>...</td>\n",
       "      <td>...</td>\n",
       "      <td>...</td>\n",
       "      <td>...</td>\n",
       "    </tr>\n",
       "    <tr>\n",
       "      <th>219</th>\n",
       "      <td>Bengals D/ST</td>\n",
       "      <td>-16004</td>\n",
       "      <td>8</td>\n",
       "      <td>[D/ST, BE, IR]</td>\n",
       "      <td>ADD</td>\n",
       "      <td>CIN</td>\n",
       "      <td>NORMAL</td>\n",
       "      <td>15</td>\n",
       "      <td>{0: {'points': 76.0, 'breakdown': {'defensive0...</td>\n",
       "      <td>D/ST</td>\n",
       "      <td>False</td>\n",
       "      <td>20.62</td>\n",
       "      <td>13.10</td>\n",
       "      <td>76.00</td>\n",
       "      <td>161.83</td>\n",
       "    </tr>\n",
       "    <tr>\n",
       "      <th>220</th>\n",
       "      <td>Brock Purdy</td>\n",
       "      <td>4361741</td>\n",
       "      <td>8</td>\n",
       "      <td>[QB, OP, BE, IR]</td>\n",
       "      <td>TRADE</td>\n",
       "      <td>SF</td>\n",
       "      <td>ACTIVE</td>\n",
       "      <td>15</td>\n",
       "      <td>{0: {'points': 106.94, 'breakdown': {'passingA...</td>\n",
       "      <td>QB</td>\n",
       "      <td>False</td>\n",
       "      <td>82.14</td>\n",
       "      <td>34.73</td>\n",
       "      <td>106.94</td>\n",
       "      <td>218.16</td>\n",
       "    </tr>\n",
       "    <tr>\n",
       "      <th>221</th>\n",
       "      <td>Salvon Ahmed</td>\n",
       "      <td>4243315</td>\n",
       "      <td>64</td>\n",
       "      <td>[RB, RB/WR, RB/WR/TE, OP, BE, IR]</td>\n",
       "      <td>ADD</td>\n",
       "      <td>MIA</td>\n",
       "      <td>ACTIVE</td>\n",
       "      <td>15</td>\n",
       "      <td>{0: {'points': 17.6, 'breakdown': {'rushingAtt...</td>\n",
       "      <td>RB</td>\n",
       "      <td>False</td>\n",
       "      <td>10.15</td>\n",
       "      <td>4.54</td>\n",
       "      <td>17.60</td>\n",
       "      <td>26.25</td>\n",
       "    </tr>\n",
       "    <tr>\n",
       "      <th>222</th>\n",
       "      <td>Raheem Mostert</td>\n",
       "      <td>2576414</td>\n",
       "      <td>2</td>\n",
       "      <td>[RB, RB/WR, RB/WR/TE, OP, BE, IR]</td>\n",
       "      <td>TRADE</td>\n",
       "      <td>MIA</td>\n",
       "      <td>ACTIVE</td>\n",
       "      <td>15</td>\n",
       "      <td>{0: {'points': 130.4, 'breakdown': {'rushingAt...</td>\n",
       "      <td>RB</td>\n",
       "      <td>False</td>\n",
       "      <td>95.85</td>\n",
       "      <td>84.43</td>\n",
       "      <td>130.40</td>\n",
       "      <td>132.90</td>\n",
       "    </tr>\n",
       "    <tr>\n",
       "      <th>223</th>\n",
       "      <td>Courtland Sutton</td>\n",
       "      <td>3128429</td>\n",
       "      <td>31</td>\n",
       "      <td>[RB/WR, WR, WR/TE, RB/WR/TE, OP, BE, IR]</td>\n",
       "      <td>TRADE</td>\n",
       "      <td>DEN</td>\n",
       "      <td>ACTIVE</td>\n",
       "      <td>15</td>\n",
       "      <td>{0: {'points': 60.0, 'breakdown': {'receivingR...</td>\n",
       "      <td>WR</td>\n",
       "      <td>False</td>\n",
       "      <td>83.87</td>\n",
       "      <td>23.50</td>\n",
       "      <td>60.00</td>\n",
       "      <td>155.26</td>\n",
       "    </tr>\n",
       "  </tbody>\n",
       "</table>\n",
       "<p>224 rows × 15 columns</p>\n",
       "</div>"
      ],
      "text/plain": [
       "                    name  playerId  posRank  \\\n",
       "0    Christian McCaffrey   3117251        1   \n",
       "1            Jalen Hurts   4040715        2   \n",
       "2           James Conner   3045147       21   \n",
       "3            Eagles D/ST    -16021       11   \n",
       "4       Kenneth Gainwell   4371733       51   \n",
       "..                   ...       ...      ...   \n",
       "219         Bengals D/ST    -16004        8   \n",
       "220          Brock Purdy   4361741        8   \n",
       "221         Salvon Ahmed   4243315       64   \n",
       "222       Raheem Mostert   2576414        2   \n",
       "223     Courtland Sutton   3128429       31   \n",
       "\n",
       "                                eligibleSlots acquisitionType proTeam  \\\n",
       "0           [RB, RB/WR, RB/WR/TE, OP, BE, IR]           DRAFT      SF   \n",
       "1                            [QB, OP, BE, IR]           DRAFT     PHI   \n",
       "2           [RB, RB/WR, RB/WR/TE, OP, BE, IR]           DRAFT     ARI   \n",
       "3                              [D/ST, BE, IR]           DRAFT     PHI   \n",
       "4           [RB, RB/WR, RB/WR/TE, OP, BE, IR]           DRAFT     PHI   \n",
       "..                                        ...             ...     ...   \n",
       "219                            [D/ST, BE, IR]             ADD     CIN   \n",
       "220                          [QB, OP, BE, IR]           TRADE      SF   \n",
       "221         [RB, RB/WR, RB/WR/TE, OP, BE, IR]             ADD     MIA   \n",
       "222         [RB, RB/WR, RB/WR/TE, OP, BE, IR]           TRADE     MIA   \n",
       "223  [RB/WR, WR, WR/TE, RB/WR/TE, OP, BE, IR]           TRADE     DEN   \n",
       "\n",
       "       injuryStatus  onTeamId  \\\n",
       "0      QUESTIONABLE         2   \n",
       "1            ACTIVE         2   \n",
       "2    INJURY_RESERVE         2   \n",
       "3            NORMAL         2   \n",
       "4            ACTIVE         2   \n",
       "..              ...       ...   \n",
       "219          NORMAL        15   \n",
       "220          ACTIVE        15   \n",
       "221          ACTIVE        15   \n",
       "222          ACTIVE        15   \n",
       "223          ACTIVE        15   \n",
       "\n",
       "                                                 stats position  injured  \\\n",
       "0    {0: {'points': 136.5, 'breakdown': {'rushingAt...       RB    False   \n",
       "1    {0: {'points': 128.98, 'breakdown': {'passingA...       QB    False   \n",
       "2    {6: {'points': 0.0, 'breakdown': {}, 'projecte...       RB     True   \n",
       "3    {0: {'points': 74.0, 'breakdown': {'defensive0...     D/ST    False   \n",
       "4    {0: {'points': 24.9, 'breakdown': {'rushingAtt...       RB    False   \n",
       "..                                                 ...      ...      ...   \n",
       "219  {0: {'points': 76.0, 'breakdown': {'defensive0...     D/ST    False   \n",
       "220  {0: {'points': 106.94, 'breakdown': {'passingA...       QB    False   \n",
       "221  {0: {'points': 17.6, 'breakdown': {'rushingAtt...       RB    False   \n",
       "222  {0: {'points': 130.4, 'breakdown': {'rushingAt...       RB    False   \n",
       "223  {0: {'points': 60.0, 'breakdown': {'receivingR...       WR    False   \n",
       "\n",
       "     percent_owned  percent_started  total_points  projected_total_points  \n",
       "0            99.95            99.83        136.50                  240.12  \n",
       "1            99.91            95.60        128.98                  338.00  \n",
       "2            89.64            11.45         55.40                  181.31  \n",
       "3            91.27            81.71         74.00                  153.08  \n",
       "4            30.38             3.69         24.90                   80.04  \n",
       "..             ...              ...           ...                     ...  \n",
       "219          20.62            13.10         76.00                  161.83  \n",
       "220          82.14            34.73        106.94                  218.16  \n",
       "221          10.15             4.54         17.60                   26.25  \n",
       "222          95.85            84.43        130.40                  132.90  \n",
       "223          83.87            23.50         60.00                  155.26  \n",
       "\n",
       "[224 rows x 15 columns]"
      ]
     },
     "execution_count": 5,
     "metadata": {},
     "output_type": "execute_result"
    }
   ],
   "source": [
    "df"
   ]
  },
  {
   "cell_type": "code",
   "execution_count": 6,
   "metadata": {},
   "outputs": [],
   "source": [
    "# Create dataframe of all teams and their rosters\n",
    "teams = []\n",
    "for team in league.teams:\n",
    "    teams.append(team)\n",
    "\n",
    "df_teams = pd.DataFrame([team.__dict__ for team in teams])\n",
    "\n",
    "# Create dataframe of team roster\n",
    "players = []\n",
    "for team in league.teams:\n",
    "    for player in team.roster:\n",
    "        players.append(player)\n",
    "    df_team = pd.DataFrame([player.__dict__ for player in players])\n",
    "    df_rosters = df_team.copy()\n",
    "\n",
    "# Create team dataframe with team name and owner\n",
    "teams = []\n",
    "for team in league.teams:\n",
    "    teams.append(team)\n",
    "df_teams = pd.DataFrame([team.__dict__ for team in teams])\n",
    "df_teams = df_teams[['team_name', 'owner', 'team_id' ]]\n",
    "\n",
    "# Merge team dataframe with roster dataframe\n",
    "df_rosters = df_rosters.merge(df_teams, left_on='onTeamId', right_on='team_id', how='left')    \n",
    "\n",
    "\n",
    "\n"
   ]
  },
  {
   "cell_type": "code",
   "execution_count": 7,
   "metadata": {},
   "outputs": [
    {
     "data": {
      "text/html": [
       "<div>\n",
       "<style scoped>\n",
       "    .dataframe tbody tr th:only-of-type {\n",
       "        vertical-align: middle;\n",
       "    }\n",
       "\n",
       "    .dataframe tbody tr th {\n",
       "        vertical-align: top;\n",
       "    }\n",
       "\n",
       "    .dataframe thead th {\n",
       "        text-align: right;\n",
       "    }\n",
       "</style>\n",
       "<table border=\"1\" class=\"dataframe\">\n",
       "  <thead>\n",
       "    <tr style=\"text-align: right;\">\n",
       "      <th></th>\n",
       "      <th>name</th>\n",
       "      <th>playerId</th>\n",
       "      <th>posRank</th>\n",
       "      <th>eligibleSlots</th>\n",
       "      <th>acquisitionType</th>\n",
       "      <th>proTeam</th>\n",
       "      <th>injuryStatus</th>\n",
       "      <th>onTeamId</th>\n",
       "      <th>stats</th>\n",
       "      <th>position</th>\n",
       "      <th>injured</th>\n",
       "      <th>percent_owned</th>\n",
       "      <th>percent_started</th>\n",
       "      <th>total_points</th>\n",
       "      <th>projected_total_points</th>\n",
       "      <th>team_name</th>\n",
       "      <th>owner</th>\n",
       "      <th>team_id</th>\n",
       "    </tr>\n",
       "  </thead>\n",
       "  <tbody>\n",
       "    <tr>\n",
       "      <th>0</th>\n",
       "      <td>Christian McCaffrey</td>\n",
       "      <td>3117251</td>\n",
       "      <td>1</td>\n",
       "      <td>[RB, RB/WR, RB/WR/TE, OP, BE, IR]</td>\n",
       "      <td>DRAFT</td>\n",
       "      <td>SF</td>\n",
       "      <td>QUESTIONABLE</td>\n",
       "      <td>2</td>\n",
       "      <td>{0: {'points': 136.5, 'breakdown': {'rushingAt...</td>\n",
       "      <td>RB</td>\n",
       "      <td>False</td>\n",
       "      <td>99.95</td>\n",
       "      <td>99.83</td>\n",
       "      <td>136.50</td>\n",
       "      <td>240.12</td>\n",
       "      <td>Carr-y Me To Round 2</td>\n",
       "      <td>Kevin Fisher</td>\n",
       "      <td>2</td>\n",
       "    </tr>\n",
       "    <tr>\n",
       "      <th>1</th>\n",
       "      <td>Jalen Hurts</td>\n",
       "      <td>4040715</td>\n",
       "      <td>2</td>\n",
       "      <td>[QB, OP, BE, IR]</td>\n",
       "      <td>DRAFT</td>\n",
       "      <td>PHI</td>\n",
       "      <td>ACTIVE</td>\n",
       "      <td>2</td>\n",
       "      <td>{0: {'points': 128.98, 'breakdown': {'passingA...</td>\n",
       "      <td>QB</td>\n",
       "      <td>False</td>\n",
       "      <td>99.91</td>\n",
       "      <td>95.60</td>\n",
       "      <td>128.98</td>\n",
       "      <td>338.00</td>\n",
       "      <td>Carr-y Me To Round 2</td>\n",
       "      <td>Kevin Fisher</td>\n",
       "      <td>2</td>\n",
       "    </tr>\n",
       "    <tr>\n",
       "      <th>2</th>\n",
       "      <td>James Conner</td>\n",
       "      <td>3045147</td>\n",
       "      <td>21</td>\n",
       "      <td>[RB, RB/WR, RB/WR/TE, OP, BE, IR]</td>\n",
       "      <td>DRAFT</td>\n",
       "      <td>ARI</td>\n",
       "      <td>INJURY_RESERVE</td>\n",
       "      <td>2</td>\n",
       "      <td>{6: {'points': 0.0, 'breakdown': {}, 'projecte...</td>\n",
       "      <td>RB</td>\n",
       "      <td>True</td>\n",
       "      <td>89.64</td>\n",
       "      <td>11.45</td>\n",
       "      <td>55.40</td>\n",
       "      <td>181.31</td>\n",
       "      <td>Carr-y Me To Round 2</td>\n",
       "      <td>Kevin Fisher</td>\n",
       "      <td>2</td>\n",
       "    </tr>\n",
       "    <tr>\n",
       "      <th>3</th>\n",
       "      <td>Eagles D/ST</td>\n",
       "      <td>-16021</td>\n",
       "      <td>11</td>\n",
       "      <td>[D/ST, BE, IR]</td>\n",
       "      <td>DRAFT</td>\n",
       "      <td>PHI</td>\n",
       "      <td>NORMAL</td>\n",
       "      <td>2</td>\n",
       "      <td>{0: {'points': 74.0, 'breakdown': {'defensive0...</td>\n",
       "      <td>D/ST</td>\n",
       "      <td>False</td>\n",
       "      <td>91.27</td>\n",
       "      <td>81.71</td>\n",
       "      <td>74.00</td>\n",
       "      <td>153.08</td>\n",
       "      <td>Carr-y Me To Round 2</td>\n",
       "      <td>Kevin Fisher</td>\n",
       "      <td>2</td>\n",
       "    </tr>\n",
       "    <tr>\n",
       "      <th>4</th>\n",
       "      <td>Kenneth Gainwell</td>\n",
       "      <td>4371733</td>\n",
       "      <td>51</td>\n",
       "      <td>[RB, RB/WR, RB/WR/TE, OP, BE, IR]</td>\n",
       "      <td>DRAFT</td>\n",
       "      <td>PHI</td>\n",
       "      <td>ACTIVE</td>\n",
       "      <td>2</td>\n",
       "      <td>{0: {'points': 24.9, 'breakdown': {'rushingAtt...</td>\n",
       "      <td>RB</td>\n",
       "      <td>False</td>\n",
       "      <td>30.38</td>\n",
       "      <td>3.69</td>\n",
       "      <td>24.90</td>\n",
       "      <td>80.04</td>\n",
       "      <td>Carr-y Me To Round 2</td>\n",
       "      <td>Kevin Fisher</td>\n",
       "      <td>2</td>\n",
       "    </tr>\n",
       "  </tbody>\n",
       "</table>\n",
       "</div>"
      ],
      "text/plain": [
       "                  name  playerId  posRank                      eligibleSlots  \\\n",
       "0  Christian McCaffrey   3117251        1  [RB, RB/WR, RB/WR/TE, OP, BE, IR]   \n",
       "1          Jalen Hurts   4040715        2                   [QB, OP, BE, IR]   \n",
       "2         James Conner   3045147       21  [RB, RB/WR, RB/WR/TE, OP, BE, IR]   \n",
       "3          Eagles D/ST    -16021       11                     [D/ST, BE, IR]   \n",
       "4     Kenneth Gainwell   4371733       51  [RB, RB/WR, RB/WR/TE, OP, BE, IR]   \n",
       "\n",
       "  acquisitionType proTeam    injuryStatus  onTeamId  \\\n",
       "0           DRAFT      SF    QUESTIONABLE         2   \n",
       "1           DRAFT     PHI          ACTIVE         2   \n",
       "2           DRAFT     ARI  INJURY_RESERVE         2   \n",
       "3           DRAFT     PHI          NORMAL         2   \n",
       "4           DRAFT     PHI          ACTIVE         2   \n",
       "\n",
       "                                               stats position  injured  \\\n",
       "0  {0: {'points': 136.5, 'breakdown': {'rushingAt...       RB    False   \n",
       "1  {0: {'points': 128.98, 'breakdown': {'passingA...       QB    False   \n",
       "2  {6: {'points': 0.0, 'breakdown': {}, 'projecte...       RB     True   \n",
       "3  {0: {'points': 74.0, 'breakdown': {'defensive0...     D/ST    False   \n",
       "4  {0: {'points': 24.9, 'breakdown': {'rushingAtt...       RB    False   \n",
       "\n",
       "   percent_owned  percent_started  total_points  projected_total_points  \\\n",
       "0          99.95            99.83        136.50                  240.12   \n",
       "1          99.91            95.60        128.98                  338.00   \n",
       "2          89.64            11.45         55.40                  181.31   \n",
       "3          91.27            81.71         74.00                  153.08   \n",
       "4          30.38             3.69         24.90                   80.04   \n",
       "\n",
       "              team_name         owner  team_id  \n",
       "0  Carr-y Me To Round 2  Kevin Fisher        2  \n",
       "1  Carr-y Me To Round 2  Kevin Fisher        2  \n",
       "2  Carr-y Me To Round 2  Kevin Fisher        2  \n",
       "3  Carr-y Me To Round 2  Kevin Fisher        2  \n",
       "4  Carr-y Me To Round 2  Kevin Fisher        2  "
      ]
     },
     "execution_count": 7,
     "metadata": {},
     "output_type": "execute_result"
    }
   ],
   "source": [
    "# Check count of rows per onTeamId\n",
    "df_rosters.head()"
   ]
  },
  {
   "cell_type": "code",
   "execution_count": 8,
   "metadata": {},
   "outputs": [
    {
     "data": {
      "text/plain": [
       "'../reports/figures/top10_players.html'"
      ]
     },
     "execution_count": 8,
     "metadata": {},
     "output_type": "execute_result"
    }
   ],
   "source": [
    "# Bar chart of top ten players on each team by total_points column\n",
    "top10_df = df_rosters.groupby(['owner', 'name'])['total_points'].sum().reset_index()\n",
    "top10_df = top10_df.sort_values(by='total_points', ascending=False)\n",
    "top10_df = top10_df.groupby('owner').head(10)\n",
    "# Sort by owners then total_points\n",
    "top10_df = top10_df.sort_values(by=['owner', 'total_points'], ascending=[True, False])\n",
    "\n",
    "# 7 rows, 2 columns of subplots, plotly\n",
    "fig = make_subplots(rows=7, cols=2, subplot_titles=top10_df['owner'].unique())\n",
    "\n",
    "# iterate through each owner and row, column\n",
    "for i, owner in enumerate(top10_df['owner'].unique()):\n",
    "    row = int(i/2) + 1\n",
    "    col = i%2 + 1\n",
    "    fig.add_trace(go.Bar(x=top10_df[top10_df['owner'] == owner]['name'],\n",
    "                         y=top10_df[top10_df['owner'] == owner]['total_points'],\n",
    "                         name=owner),\n",
    "                  row=row, col=col)\n",
    "# Hide legend\n",
    "fig.update_layout(showlegend=False)\n",
    "# Update layout   \n",
    "fig.update_layout(height=2000, width=1000, title_text=\"Top 10 Players by Total Points\")\n",
    "# Save figure\n",
    "plotly.offline.plot(fig, filename='../reports/figures/top10_players.html', auto_open=False)"
   ]
  },
  {
   "cell_type": "code",
   "execution_count": 9,
   "metadata": {},
   "outputs": [
    {
     "data": {
      "application/vnd.plotly.v1+json": {
       "config": {
        "plotlyServerURL": "https://plot.ly"
       },
       "data": [
        {
         "alignmentgroup": "True",
         "hovertemplate": "name=%{x}<br>total_points=%{y}<extra></extra>",
         "legendgroup": "",
         "marker": {
          "color": "#636efa",
          "pattern": {
           "shape": ""
          }
         },
         "name": "",
         "offsetgroup": "",
         "orientation": "v",
         "showlegend": false,
         "textposition": "auto",
         "type": "bar",
         "x": [
          "Christian McCaffrey",
          "Jalen Hurts",
          "A.J. Brown",
          "Jaguars D/ST",
          "Eagles D/ST",
          "Christian Kirk",
          "Bryce Young",
          "T.J. Hockenson",
          "Tutu Atwell",
          "Kendrick Bourne"
         ],
         "xaxis": "x",
         "y": [
          136.5,
          128.98,
          100.2,
          75,
          74,
          67.46,
          59.18,
          58.4,
          58.1,
          57.1
         ],
         "yaxis": "y"
        }
       ],
       "layout": {
        "barmode": "relative",
        "legend": {
         "tracegroupgap": 0
        },
        "template": {
         "data": {
          "bar": [
           {
            "error_x": {
             "color": "#2a3f5f"
            },
            "error_y": {
             "color": "#2a3f5f"
            },
            "marker": {
             "line": {
              "color": "#E5ECF6",
              "width": 0.5
             },
             "pattern": {
              "fillmode": "overlay",
              "size": 10,
              "solidity": 0.2
             }
            },
            "type": "bar"
           }
          ],
          "barpolar": [
           {
            "marker": {
             "line": {
              "color": "#E5ECF6",
              "width": 0.5
             },
             "pattern": {
              "fillmode": "overlay",
              "size": 10,
              "solidity": 0.2
             }
            },
            "type": "barpolar"
           }
          ],
          "carpet": [
           {
            "aaxis": {
             "endlinecolor": "#2a3f5f",
             "gridcolor": "white",
             "linecolor": "white",
             "minorgridcolor": "white",
             "startlinecolor": "#2a3f5f"
            },
            "baxis": {
             "endlinecolor": "#2a3f5f",
             "gridcolor": "white",
             "linecolor": "white",
             "minorgridcolor": "white",
             "startlinecolor": "#2a3f5f"
            },
            "type": "carpet"
           }
          ],
          "choropleth": [
           {
            "colorbar": {
             "outlinewidth": 0,
             "ticks": ""
            },
            "type": "choropleth"
           }
          ],
          "contour": [
           {
            "colorbar": {
             "outlinewidth": 0,
             "ticks": ""
            },
            "colorscale": [
             [
              0,
              "#0d0887"
             ],
             [
              0.1111111111111111,
              "#46039f"
             ],
             [
              0.2222222222222222,
              "#7201a8"
             ],
             [
              0.3333333333333333,
              "#9c179e"
             ],
             [
              0.4444444444444444,
              "#bd3786"
             ],
             [
              0.5555555555555556,
              "#d8576b"
             ],
             [
              0.6666666666666666,
              "#ed7953"
             ],
             [
              0.7777777777777778,
              "#fb9f3a"
             ],
             [
              0.8888888888888888,
              "#fdca26"
             ],
             [
              1,
              "#f0f921"
             ]
            ],
            "type": "contour"
           }
          ],
          "contourcarpet": [
           {
            "colorbar": {
             "outlinewidth": 0,
             "ticks": ""
            },
            "type": "contourcarpet"
           }
          ],
          "heatmap": [
           {
            "colorbar": {
             "outlinewidth": 0,
             "ticks": ""
            },
            "colorscale": [
             [
              0,
              "#0d0887"
             ],
             [
              0.1111111111111111,
              "#46039f"
             ],
             [
              0.2222222222222222,
              "#7201a8"
             ],
             [
              0.3333333333333333,
              "#9c179e"
             ],
             [
              0.4444444444444444,
              "#bd3786"
             ],
             [
              0.5555555555555556,
              "#d8576b"
             ],
             [
              0.6666666666666666,
              "#ed7953"
             ],
             [
              0.7777777777777778,
              "#fb9f3a"
             ],
             [
              0.8888888888888888,
              "#fdca26"
             ],
             [
              1,
              "#f0f921"
             ]
            ],
            "type": "heatmap"
           }
          ],
          "heatmapgl": [
           {
            "colorbar": {
             "outlinewidth": 0,
             "ticks": ""
            },
            "colorscale": [
             [
              0,
              "#0d0887"
             ],
             [
              0.1111111111111111,
              "#46039f"
             ],
             [
              0.2222222222222222,
              "#7201a8"
             ],
             [
              0.3333333333333333,
              "#9c179e"
             ],
             [
              0.4444444444444444,
              "#bd3786"
             ],
             [
              0.5555555555555556,
              "#d8576b"
             ],
             [
              0.6666666666666666,
              "#ed7953"
             ],
             [
              0.7777777777777778,
              "#fb9f3a"
             ],
             [
              0.8888888888888888,
              "#fdca26"
             ],
             [
              1,
              "#f0f921"
             ]
            ],
            "type": "heatmapgl"
           }
          ],
          "histogram": [
           {
            "marker": {
             "pattern": {
              "fillmode": "overlay",
              "size": 10,
              "solidity": 0.2
             }
            },
            "type": "histogram"
           }
          ],
          "histogram2d": [
           {
            "colorbar": {
             "outlinewidth": 0,
             "ticks": ""
            },
            "colorscale": [
             [
              0,
              "#0d0887"
             ],
             [
              0.1111111111111111,
              "#46039f"
             ],
             [
              0.2222222222222222,
              "#7201a8"
             ],
             [
              0.3333333333333333,
              "#9c179e"
             ],
             [
              0.4444444444444444,
              "#bd3786"
             ],
             [
              0.5555555555555556,
              "#d8576b"
             ],
             [
              0.6666666666666666,
              "#ed7953"
             ],
             [
              0.7777777777777778,
              "#fb9f3a"
             ],
             [
              0.8888888888888888,
              "#fdca26"
             ],
             [
              1,
              "#f0f921"
             ]
            ],
            "type": "histogram2d"
           }
          ],
          "histogram2dcontour": [
           {
            "colorbar": {
             "outlinewidth": 0,
             "ticks": ""
            },
            "colorscale": [
             [
              0,
              "#0d0887"
             ],
             [
              0.1111111111111111,
              "#46039f"
             ],
             [
              0.2222222222222222,
              "#7201a8"
             ],
             [
              0.3333333333333333,
              "#9c179e"
             ],
             [
              0.4444444444444444,
              "#bd3786"
             ],
             [
              0.5555555555555556,
              "#d8576b"
             ],
             [
              0.6666666666666666,
              "#ed7953"
             ],
             [
              0.7777777777777778,
              "#fb9f3a"
             ],
             [
              0.8888888888888888,
              "#fdca26"
             ],
             [
              1,
              "#f0f921"
             ]
            ],
            "type": "histogram2dcontour"
           }
          ],
          "mesh3d": [
           {
            "colorbar": {
             "outlinewidth": 0,
             "ticks": ""
            },
            "type": "mesh3d"
           }
          ],
          "parcoords": [
           {
            "line": {
             "colorbar": {
              "outlinewidth": 0,
              "ticks": ""
             }
            },
            "type": "parcoords"
           }
          ],
          "pie": [
           {
            "automargin": true,
            "type": "pie"
           }
          ],
          "scatter": [
           {
            "fillpattern": {
             "fillmode": "overlay",
             "size": 10,
             "solidity": 0.2
            },
            "type": "scatter"
           }
          ],
          "scatter3d": [
           {
            "line": {
             "colorbar": {
              "outlinewidth": 0,
              "ticks": ""
             }
            },
            "marker": {
             "colorbar": {
              "outlinewidth": 0,
              "ticks": ""
             }
            },
            "type": "scatter3d"
           }
          ],
          "scattercarpet": [
           {
            "marker": {
             "colorbar": {
              "outlinewidth": 0,
              "ticks": ""
             }
            },
            "type": "scattercarpet"
           }
          ],
          "scattergeo": [
           {
            "marker": {
             "colorbar": {
              "outlinewidth": 0,
              "ticks": ""
             }
            },
            "type": "scattergeo"
           }
          ],
          "scattergl": [
           {
            "marker": {
             "colorbar": {
              "outlinewidth": 0,
              "ticks": ""
             }
            },
            "type": "scattergl"
           }
          ],
          "scattermapbox": [
           {
            "marker": {
             "colorbar": {
              "outlinewidth": 0,
              "ticks": ""
             }
            },
            "type": "scattermapbox"
           }
          ],
          "scatterpolar": [
           {
            "marker": {
             "colorbar": {
              "outlinewidth": 0,
              "ticks": ""
             }
            },
            "type": "scatterpolar"
           }
          ],
          "scatterpolargl": [
           {
            "marker": {
             "colorbar": {
              "outlinewidth": 0,
              "ticks": ""
             }
            },
            "type": "scatterpolargl"
           }
          ],
          "scatterternary": [
           {
            "marker": {
             "colorbar": {
              "outlinewidth": 0,
              "ticks": ""
             }
            },
            "type": "scatterternary"
           }
          ],
          "surface": [
           {
            "colorbar": {
             "outlinewidth": 0,
             "ticks": ""
            },
            "colorscale": [
             [
              0,
              "#0d0887"
             ],
             [
              0.1111111111111111,
              "#46039f"
             ],
             [
              0.2222222222222222,
              "#7201a8"
             ],
             [
              0.3333333333333333,
              "#9c179e"
             ],
             [
              0.4444444444444444,
              "#bd3786"
             ],
             [
              0.5555555555555556,
              "#d8576b"
             ],
             [
              0.6666666666666666,
              "#ed7953"
             ],
             [
              0.7777777777777778,
              "#fb9f3a"
             ],
             [
              0.8888888888888888,
              "#fdca26"
             ],
             [
              1,
              "#f0f921"
             ]
            ],
            "type": "surface"
           }
          ],
          "table": [
           {
            "cells": {
             "fill": {
              "color": "#EBF0F8"
             },
             "line": {
              "color": "white"
             }
            },
            "header": {
             "fill": {
              "color": "#C8D4E3"
             },
             "line": {
              "color": "white"
             }
            },
            "type": "table"
           }
          ]
         },
         "layout": {
          "annotationdefaults": {
           "arrowcolor": "#2a3f5f",
           "arrowhead": 0,
           "arrowwidth": 1
          },
          "autotypenumbers": "strict",
          "coloraxis": {
           "colorbar": {
            "outlinewidth": 0,
            "ticks": ""
           }
          },
          "colorscale": {
           "diverging": [
            [
             0,
             "#8e0152"
            ],
            [
             0.1,
             "#c51b7d"
            ],
            [
             0.2,
             "#de77ae"
            ],
            [
             0.3,
             "#f1b6da"
            ],
            [
             0.4,
             "#fde0ef"
            ],
            [
             0.5,
             "#f7f7f7"
            ],
            [
             0.6,
             "#e6f5d0"
            ],
            [
             0.7,
             "#b8e186"
            ],
            [
             0.8,
             "#7fbc41"
            ],
            [
             0.9,
             "#4d9221"
            ],
            [
             1,
             "#276419"
            ]
           ],
           "sequential": [
            [
             0,
             "#0d0887"
            ],
            [
             0.1111111111111111,
             "#46039f"
            ],
            [
             0.2222222222222222,
             "#7201a8"
            ],
            [
             0.3333333333333333,
             "#9c179e"
            ],
            [
             0.4444444444444444,
             "#bd3786"
            ],
            [
             0.5555555555555556,
             "#d8576b"
            ],
            [
             0.6666666666666666,
             "#ed7953"
            ],
            [
             0.7777777777777778,
             "#fb9f3a"
            ],
            [
             0.8888888888888888,
             "#fdca26"
            ],
            [
             1,
             "#f0f921"
            ]
           ],
           "sequentialminus": [
            [
             0,
             "#0d0887"
            ],
            [
             0.1111111111111111,
             "#46039f"
            ],
            [
             0.2222222222222222,
             "#7201a8"
            ],
            [
             0.3333333333333333,
             "#9c179e"
            ],
            [
             0.4444444444444444,
             "#bd3786"
            ],
            [
             0.5555555555555556,
             "#d8576b"
            ],
            [
             0.6666666666666666,
             "#ed7953"
            ],
            [
             0.7777777777777778,
             "#fb9f3a"
            ],
            [
             0.8888888888888888,
             "#fdca26"
            ],
            [
             1,
             "#f0f921"
            ]
           ]
          },
          "colorway": [
           "#636efa",
           "#EF553B",
           "#00cc96",
           "#ab63fa",
           "#FFA15A",
           "#19d3f3",
           "#FF6692",
           "#B6E880",
           "#FF97FF",
           "#FECB52"
          ],
          "font": {
           "color": "#2a3f5f"
          },
          "geo": {
           "bgcolor": "white",
           "lakecolor": "white",
           "landcolor": "#E5ECF6",
           "showlakes": true,
           "showland": true,
           "subunitcolor": "white"
          },
          "hoverlabel": {
           "align": "left"
          },
          "hovermode": "closest",
          "mapbox": {
           "style": "light"
          },
          "paper_bgcolor": "white",
          "plot_bgcolor": "#E5ECF6",
          "polar": {
           "angularaxis": {
            "gridcolor": "white",
            "linecolor": "white",
            "ticks": ""
           },
           "bgcolor": "#E5ECF6",
           "radialaxis": {
            "gridcolor": "white",
            "linecolor": "white",
            "ticks": ""
           }
          },
          "scene": {
           "xaxis": {
            "backgroundcolor": "#E5ECF6",
            "gridcolor": "white",
            "gridwidth": 2,
            "linecolor": "white",
            "showbackground": true,
            "ticks": "",
            "zerolinecolor": "white"
           },
           "yaxis": {
            "backgroundcolor": "#E5ECF6",
            "gridcolor": "white",
            "gridwidth": 2,
            "linecolor": "white",
            "showbackground": true,
            "ticks": "",
            "zerolinecolor": "white"
           },
           "zaxis": {
            "backgroundcolor": "#E5ECF6",
            "gridcolor": "white",
            "gridwidth": 2,
            "linecolor": "white",
            "showbackground": true,
            "ticks": "",
            "zerolinecolor": "white"
           }
          },
          "shapedefaults": {
           "line": {
            "color": "#2a3f5f"
           }
          },
          "ternary": {
           "aaxis": {
            "gridcolor": "white",
            "linecolor": "white",
            "ticks": ""
           },
           "baxis": {
            "gridcolor": "white",
            "linecolor": "white",
            "ticks": ""
           },
           "bgcolor": "#E5ECF6",
           "caxis": {
            "gridcolor": "white",
            "linecolor": "white",
            "ticks": ""
           }
          },
          "title": {
           "x": 0.05
          },
          "xaxis": {
           "automargin": true,
           "gridcolor": "white",
           "linecolor": "white",
           "ticks": "",
           "title": {
            "standoff": 15
           },
           "zerolinecolor": "white",
           "zerolinewidth": 2
          },
          "yaxis": {
           "automargin": true,
           "gridcolor": "white",
           "linecolor": "white",
           "ticks": "",
           "title": {
            "standoff": 15
           },
           "zerolinecolor": "white",
           "zerolinewidth": 2
          }
         }
        },
        "title": {
         "text": "Top 10 Players by Total Points for Kevin Fisher"
        },
        "xaxis": {
         "anchor": "y",
         "domain": [
          0,
          1
         ],
         "title": {
          "text": "name"
         }
        },
        "yaxis": {
         "anchor": "x",
         "domain": [
          0,
          1
         ],
         "title": {
          "text": "total_points"
         }
        }
       }
      }
     },
     "metadata": {},
     "output_type": "display_data"
    }
   ],
   "source": [
    "# Plot total points by player for Kevin Fisher's team\n",
    "df_kevin = df_rosters[df_rosters['owner'] == 'Kevin Fisher']\n",
    "df_kevin = df_kevin[['name', 'total_points']]\n",
    "df_kevin = df_kevin.sort_values(by='total_points', ascending=False)\n",
    "df_kevin = df_kevin.reset_index(drop=True)\n",
    "df_kevin = df_kevin.head(10)\n",
    "\n",
    "fig = px.bar(df_kevin, x='name', y='total_points', title='Top 10 Players by Total Points for Kevin Fisher')\n",
    "# Adjust figure size\n",
    "fig.show()"
   ]
  },
  {
   "cell_type": "code",
   "execution_count": null,
   "metadata": {},
   "outputs": [],
   "source": []
  }
 ],
 "metadata": {
  "kernelspec": {
   "display_name": ".venv",
   "language": "python",
   "name": "python3"
  },
  "language_info": {
   "codemirror_mode": {
    "name": "ipython",
    "version": 3
   },
   "file_extension": ".py",
   "mimetype": "text/x-python",
   "name": "python",
   "nbconvert_exporter": "python",
   "pygments_lexer": "ipython3",
   "version": "3.11.3"
  }
 },
 "nbformat": 4,
 "nbformat_minor": 2
}
